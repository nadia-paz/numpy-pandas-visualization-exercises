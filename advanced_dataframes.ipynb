{
 "cells": [
  {
   "cell_type": "code",
   "execution_count": 1,
   "id": "ce34ecf3",
   "metadata": {},
   "outputs": [],
   "source": [
    "import pandas as pd\n",
    "import numpy as np\n",
    "from env import get_db_url"
   ]
  },
  {
   "cell_type": "code",
   "execution_count": 2,
   "id": "973e1828",
   "metadata": {},
   "outputs": [],
   "source": [
    "url = get_db_url('employees') #doesn't work correct"
   ]
  },
  {
   "cell_type": "code",
   "execution_count": null,
   "id": "487fffcc",
   "metadata": {},
   "outputs": [],
   "source": [
    "#url = f'mysql+pymysql://{user}:{password}@{host}/employees'"
   ]
  },
  {
   "cell_type": "code",
   "execution_count": 26,
   "id": "08ce6767",
   "metadata": {
    "scrolled": true
   },
   "outputs": [
    {
     "data": {
      "text/html": [
       "<div>\n",
       "<style scoped>\n",
       "    .dataframe tbody tr th:only-of-type {\n",
       "        vertical-align: middle;\n",
       "    }\n",
       "\n",
       "    .dataframe tbody tr th {\n",
       "        vertical-align: top;\n",
       "    }\n",
       "\n",
       "    .dataframe thead th {\n",
       "        text-align: right;\n",
       "    }\n",
       "</style>\n",
       "<table border=\"1\" class=\"dataframe\">\n",
       "  <thead>\n",
       "    <tr style=\"text-align: right;\">\n",
       "      <th></th>\n",
       "      <th>emp_no</th>\n",
       "      <th>birth_date</th>\n",
       "      <th>first_name</th>\n",
       "      <th>last_name</th>\n",
       "      <th>gender</th>\n",
       "      <th>hire_date</th>\n",
       "    </tr>\n",
       "  </thead>\n",
       "  <tbody>\n",
       "    <tr>\n",
       "      <th>0</th>\n",
       "      <td>10001</td>\n",
       "      <td>1953-09-02</td>\n",
       "      <td>Georgi</td>\n",
       "      <td>Facello</td>\n",
       "      <td>M</td>\n",
       "      <td>1986-06-26</td>\n",
       "    </tr>\n",
       "    <tr>\n",
       "      <th>1</th>\n",
       "      <td>10002</td>\n",
       "      <td>1964-06-02</td>\n",
       "      <td>Bezalel</td>\n",
       "      <td>Simmel</td>\n",
       "      <td>F</td>\n",
       "      <td>1985-11-21</td>\n",
       "    </tr>\n",
       "    <tr>\n",
       "      <th>2</th>\n",
       "      <td>10003</td>\n",
       "      <td>1959-12-03</td>\n",
       "      <td>Parto</td>\n",
       "      <td>Bamford</td>\n",
       "      <td>M</td>\n",
       "      <td>1986-08-28</td>\n",
       "    </tr>\n",
       "    <tr>\n",
       "      <th>3</th>\n",
       "      <td>10004</td>\n",
       "      <td>1954-05-01</td>\n",
       "      <td>Chirstian</td>\n",
       "      <td>Koblick</td>\n",
       "      <td>M</td>\n",
       "      <td>1986-12-01</td>\n",
       "    </tr>\n",
       "    <tr>\n",
       "      <th>4</th>\n",
       "      <td>10005</td>\n",
       "      <td>1955-01-21</td>\n",
       "      <td>Kyoichi</td>\n",
       "      <td>Maliniak</td>\n",
       "      <td>M</td>\n",
       "      <td>1989-09-12</td>\n",
       "    </tr>\n",
       "  </tbody>\n",
       "</table>\n",
       "</div>"
      ],
      "text/plain": [
       "   emp_no  birth_date first_name last_name gender   hire_date\n",
       "0   10001  1953-09-02     Georgi   Facello      M  1986-06-26\n",
       "1   10002  1964-06-02    Bezalel    Simmel      F  1985-11-21\n",
       "2   10003  1959-12-03      Parto   Bamford      M  1986-08-28\n",
       "3   10004  1954-05-01  Chirstian   Koblick      M  1986-12-01\n",
       "4   10005  1955-01-21    Kyoichi  Maliniak      M  1989-09-12"
      ]
     },
     "execution_count": 26,
     "metadata": {},
     "output_type": "execute_result"
    }
   ],
   "source": [
    "pd.read_sql('SELECT * FROM employees LIMIT 5', url)"
   ]
  },
  {
   "cell_type": "markdown",
   "id": "786252d8",
   "metadata": {},
   "source": [
    "5. Once you have successfully run a query:\n",
    "\n",
    "a. Intentionally make a typo in the database url. What kind of error message do you see?"
   ]
  },
  {
   "cell_type": "code",
   "execution_count": 23,
   "id": "abc5e107",
   "metadata": {},
   "outputs": [],
   "source": [
    "bad_url = get_db_url('wrond_db')"
   ]
  },
  {
   "cell_type": "code",
   "execution_count": 28,
   "id": "44e888a0",
   "metadata": {},
   "outputs": [],
   "source": [
    "# pd.read_sql('SELECT * FROM employees LIMIT 5', bad_url) #OperationalError: (pymysql.err.OperationalError) (1044, \"Access denied for user..."
   ]
  },
  {
   "cell_type": "markdown",
   "id": "7f81939a",
   "metadata": {},
   "source": [
    "b. Intentionally make an error in your SQL query. What does the error message look like?"
   ]
  },
  {
   "cell_type": "code",
   "execution_count": 5,
   "id": "eb5be39e",
   "metadata": {},
   "outputs": [],
   "source": [
    "#pd.read_sql('SELECT * FROM emploees LIMIT 5', url) #ProgrammingError: (pymysql.err.ProgrammingError) (1146, \n",
    "#\"Table 'employees.emploees' doesn't exist\")"
   ]
  },
  {
   "cell_type": "markdown",
   "id": "d6cd5c6d",
   "metadata": {},
   "source": [
    "6. Read the employees and titles tables into two separate DataFrames."
   ]
  },
  {
   "cell_type": "code",
   "execution_count": 7,
   "id": "325a1abb",
   "metadata": {},
   "outputs": [],
   "source": [
    "employees = pd.read_sql('SELECT * FROM employees', url)"
   ]
  },
  {
   "cell_type": "code",
   "execution_count": 8,
   "id": "7f2fc766",
   "metadata": {},
   "outputs": [
    {
     "data": {
      "text/html": [
       "<div>\n",
       "<style scoped>\n",
       "    .dataframe tbody tr th:only-of-type {\n",
       "        vertical-align: middle;\n",
       "    }\n",
       "\n",
       "    .dataframe tbody tr th {\n",
       "        vertical-align: top;\n",
       "    }\n",
       "\n",
       "    .dataframe thead th {\n",
       "        text-align: right;\n",
       "    }\n",
       "</style>\n",
       "<table border=\"1\" class=\"dataframe\">\n",
       "  <thead>\n",
       "    <tr style=\"text-align: right;\">\n",
       "      <th></th>\n",
       "      <th>emp_no</th>\n",
       "      <th>birth_date</th>\n",
       "      <th>first_name</th>\n",
       "      <th>last_name</th>\n",
       "      <th>gender</th>\n",
       "      <th>hire_date</th>\n",
       "    </tr>\n",
       "  </thead>\n",
       "  <tbody>\n",
       "    <tr>\n",
       "      <th>0</th>\n",
       "      <td>10001</td>\n",
       "      <td>1953-09-02</td>\n",
       "      <td>Georgi</td>\n",
       "      <td>Facello</td>\n",
       "      <td>M</td>\n",
       "      <td>1986-06-26</td>\n",
       "    </tr>\n",
       "    <tr>\n",
       "      <th>1</th>\n",
       "      <td>10002</td>\n",
       "      <td>1964-06-02</td>\n",
       "      <td>Bezalel</td>\n",
       "      <td>Simmel</td>\n",
       "      <td>F</td>\n",
       "      <td>1985-11-21</td>\n",
       "    </tr>\n",
       "    <tr>\n",
       "      <th>2</th>\n",
       "      <td>10003</td>\n",
       "      <td>1959-12-03</td>\n",
       "      <td>Parto</td>\n",
       "      <td>Bamford</td>\n",
       "      <td>M</td>\n",
       "      <td>1986-08-28</td>\n",
       "    </tr>\n",
       "    <tr>\n",
       "      <th>3</th>\n",
       "      <td>10004</td>\n",
       "      <td>1954-05-01</td>\n",
       "      <td>Chirstian</td>\n",
       "      <td>Koblick</td>\n",
       "      <td>M</td>\n",
       "      <td>1986-12-01</td>\n",
       "    </tr>\n",
       "    <tr>\n",
       "      <th>4</th>\n",
       "      <td>10005</td>\n",
       "      <td>1955-01-21</td>\n",
       "      <td>Kyoichi</td>\n",
       "      <td>Maliniak</td>\n",
       "      <td>M</td>\n",
       "      <td>1989-09-12</td>\n",
       "    </tr>\n",
       "  </tbody>\n",
       "</table>\n",
       "</div>"
      ],
      "text/plain": [
       "   emp_no  birth_date first_name last_name gender   hire_date\n",
       "0   10001  1953-09-02     Georgi   Facello      M  1986-06-26\n",
       "1   10002  1964-06-02    Bezalel    Simmel      F  1985-11-21\n",
       "2   10003  1959-12-03      Parto   Bamford      M  1986-08-28\n",
       "3   10004  1954-05-01  Chirstian   Koblick      M  1986-12-01\n",
       "4   10005  1955-01-21    Kyoichi  Maliniak      M  1989-09-12"
      ]
     },
     "execution_count": 8,
     "metadata": {},
     "output_type": "execute_result"
    }
   ],
   "source": [
    "employees.head()"
   ]
  },
  {
   "cell_type": "code",
   "execution_count": 9,
   "id": "91ba8601",
   "metadata": {},
   "outputs": [],
   "source": [
    "titles = pd.read_sql('SELECT * FROM titles', url)"
   ]
  },
  {
   "cell_type": "code",
   "execution_count": 10,
   "id": "5c94a665",
   "metadata": {},
   "outputs": [
    {
     "data": {
      "text/html": [
       "<div>\n",
       "<style scoped>\n",
       "    .dataframe tbody tr th:only-of-type {\n",
       "        vertical-align: middle;\n",
       "    }\n",
       "\n",
       "    .dataframe tbody tr th {\n",
       "        vertical-align: top;\n",
       "    }\n",
       "\n",
       "    .dataframe thead th {\n",
       "        text-align: right;\n",
       "    }\n",
       "</style>\n",
       "<table border=\"1\" class=\"dataframe\">\n",
       "  <thead>\n",
       "    <tr style=\"text-align: right;\">\n",
       "      <th></th>\n",
       "      <th>emp_no</th>\n",
       "      <th>title</th>\n",
       "      <th>from_date</th>\n",
       "      <th>to_date</th>\n",
       "    </tr>\n",
       "  </thead>\n",
       "  <tbody>\n",
       "    <tr>\n",
       "      <th>0</th>\n",
       "      <td>10001</td>\n",
       "      <td>Senior Engineer</td>\n",
       "      <td>1986-06-26</td>\n",
       "      <td>9999-01-01</td>\n",
       "    </tr>\n",
       "    <tr>\n",
       "      <th>1</th>\n",
       "      <td>10002</td>\n",
       "      <td>Staff</td>\n",
       "      <td>1996-08-03</td>\n",
       "      <td>9999-01-01</td>\n",
       "    </tr>\n",
       "    <tr>\n",
       "      <th>2</th>\n",
       "      <td>10003</td>\n",
       "      <td>Senior Engineer</td>\n",
       "      <td>1995-12-03</td>\n",
       "      <td>9999-01-01</td>\n",
       "    </tr>\n",
       "    <tr>\n",
       "      <th>3</th>\n",
       "      <td>10004</td>\n",
       "      <td>Engineer</td>\n",
       "      <td>1986-12-01</td>\n",
       "      <td>1995-12-01</td>\n",
       "    </tr>\n",
       "    <tr>\n",
       "      <th>4</th>\n",
       "      <td>10004</td>\n",
       "      <td>Senior Engineer</td>\n",
       "      <td>1995-12-01</td>\n",
       "      <td>9999-01-01</td>\n",
       "    </tr>\n",
       "  </tbody>\n",
       "</table>\n",
       "</div>"
      ],
      "text/plain": [
       "   emp_no            title   from_date     to_date\n",
       "0   10001  Senior Engineer  1986-06-26  9999-01-01\n",
       "1   10002            Staff  1996-08-03  9999-01-01\n",
       "2   10003  Senior Engineer  1995-12-03  9999-01-01\n",
       "3   10004         Engineer  1986-12-01  1995-12-01\n",
       "4   10004  Senior Engineer  1995-12-01  9999-01-01"
      ]
     },
     "execution_count": 10,
     "metadata": {},
     "output_type": "execute_result"
    }
   ],
   "source": [
    "titles.head()"
   ]
  },
  {
   "cell_type": "markdown",
   "id": "29d75840",
   "metadata": {},
   "source": [
    "7. How many rows and columns do you have in each DataFrame? Is that what you expected?"
   ]
  },
  {
   "cell_type": "code",
   "execution_count": 11,
   "id": "1f8efb97",
   "metadata": {},
   "outputs": [
    {
     "data": {
      "text/plain": [
       "(300024, 6)"
      ]
     },
     "execution_count": 11,
     "metadata": {},
     "output_type": "execute_result"
    }
   ],
   "source": [
    "employees.shape"
   ]
  },
  {
   "cell_type": "code",
   "execution_count": 12,
   "id": "c6bd0fe5",
   "metadata": {},
   "outputs": [
    {
     "data": {
      "text/plain": [
       "(443308, 4)"
      ]
     },
     "execution_count": 12,
     "metadata": {},
     "output_type": "execute_result"
    }
   ],
   "source": [
    "titles.shape"
   ]
  },
  {
   "cell_type": "markdown",
   "id": "0eb19fe7",
   "metadata": {},
   "source": [
    "8. Display the summary statistics for each DataFrame."
   ]
  },
  {
   "cell_type": "code",
   "execution_count": 13,
   "id": "b39790cc",
   "metadata": {},
   "outputs": [
    {
     "data": {
      "text/html": [
       "<div>\n",
       "<style scoped>\n",
       "    .dataframe tbody tr th:only-of-type {\n",
       "        vertical-align: middle;\n",
       "    }\n",
       "\n",
       "    .dataframe tbody tr th {\n",
       "        vertical-align: top;\n",
       "    }\n",
       "\n",
       "    .dataframe thead th {\n",
       "        text-align: right;\n",
       "    }\n",
       "</style>\n",
       "<table border=\"1\" class=\"dataframe\">\n",
       "  <thead>\n",
       "    <tr style=\"text-align: right;\">\n",
       "      <th></th>\n",
       "      <th>emp_no</th>\n",
       "    </tr>\n",
       "  </thead>\n",
       "  <tbody>\n",
       "    <tr>\n",
       "      <th>count</th>\n",
       "      <td>300024.000000</td>\n",
       "    </tr>\n",
       "    <tr>\n",
       "      <th>mean</th>\n",
       "      <td>253321.763392</td>\n",
       "    </tr>\n",
       "    <tr>\n",
       "      <th>std</th>\n",
       "      <td>161828.235540</td>\n",
       "    </tr>\n",
       "    <tr>\n",
       "      <th>min</th>\n",
       "      <td>10001.000000</td>\n",
       "    </tr>\n",
       "    <tr>\n",
       "      <th>25%</th>\n",
       "      <td>85006.750000</td>\n",
       "    </tr>\n",
       "    <tr>\n",
       "      <th>50%</th>\n",
       "      <td>249987.500000</td>\n",
       "    </tr>\n",
       "    <tr>\n",
       "      <th>75%</th>\n",
       "      <td>424993.250000</td>\n",
       "    </tr>\n",
       "    <tr>\n",
       "      <th>max</th>\n",
       "      <td>499999.000000</td>\n",
       "    </tr>\n",
       "  </tbody>\n",
       "</table>\n",
       "</div>"
      ],
      "text/plain": [
       "              emp_no\n",
       "count  300024.000000\n",
       "mean   253321.763392\n",
       "std    161828.235540\n",
       "min     10001.000000\n",
       "25%     85006.750000\n",
       "50%    249987.500000\n",
       "75%    424993.250000\n",
       "max    499999.000000"
      ]
     },
     "execution_count": 13,
     "metadata": {},
     "output_type": "execute_result"
    }
   ],
   "source": [
    "employees.describe()"
   ]
  },
  {
   "cell_type": "code",
   "execution_count": 14,
   "id": "9b3c664c",
   "metadata": {},
   "outputs": [
    {
     "data": {
      "text/html": [
       "<div>\n",
       "<style scoped>\n",
       "    .dataframe tbody tr th:only-of-type {\n",
       "        vertical-align: middle;\n",
       "    }\n",
       "\n",
       "    .dataframe tbody tr th {\n",
       "        vertical-align: top;\n",
       "    }\n",
       "\n",
       "    .dataframe thead th {\n",
       "        text-align: right;\n",
       "    }\n",
       "</style>\n",
       "<table border=\"1\" class=\"dataframe\">\n",
       "  <thead>\n",
       "    <tr style=\"text-align: right;\">\n",
       "      <th></th>\n",
       "      <th>emp_no</th>\n",
       "    </tr>\n",
       "  </thead>\n",
       "  <tbody>\n",
       "    <tr>\n",
       "      <th>count</th>\n",
       "      <td>443308.000000</td>\n",
       "    </tr>\n",
       "    <tr>\n",
       "      <th>mean</th>\n",
       "      <td>253075.034430</td>\n",
       "    </tr>\n",
       "    <tr>\n",
       "      <th>std</th>\n",
       "      <td>161853.292613</td>\n",
       "    </tr>\n",
       "    <tr>\n",
       "      <th>min</th>\n",
       "      <td>10001.000000</td>\n",
       "    </tr>\n",
       "    <tr>\n",
       "      <th>25%</th>\n",
       "      <td>84855.750000</td>\n",
       "    </tr>\n",
       "    <tr>\n",
       "      <th>50%</th>\n",
       "      <td>249847.500000</td>\n",
       "    </tr>\n",
       "    <tr>\n",
       "      <th>75%</th>\n",
       "      <td>424891.250000</td>\n",
       "    </tr>\n",
       "    <tr>\n",
       "      <th>max</th>\n",
       "      <td>499999.000000</td>\n",
       "    </tr>\n",
       "  </tbody>\n",
       "</table>\n",
       "</div>"
      ],
      "text/plain": [
       "              emp_no\n",
       "count  443308.000000\n",
       "mean   253075.034430\n",
       "std    161853.292613\n",
       "min     10001.000000\n",
       "25%     84855.750000\n",
       "50%    249847.500000\n",
       "75%    424891.250000\n",
       "max    499999.000000"
      ]
     },
     "execution_count": 14,
     "metadata": {},
     "output_type": "execute_result"
    }
   ],
   "source": [
    "titles.describe()"
   ]
  },
  {
   "cell_type": "markdown",
   "id": "7fa788c9",
   "metadata": {},
   "source": [
    "9. How many unique titles are in the ```titles``` DataFrame?"
   ]
  },
  {
   "cell_type": "code",
   "execution_count": 17,
   "id": "743a959e",
   "metadata": {},
   "outputs": [
    {
     "data": {
      "text/plain": [
       "7"
      ]
     },
     "execution_count": 17,
     "metadata": {},
     "output_type": "execute_result"
    }
   ],
   "source": [
    "titles.title.nunique()"
   ]
  },
  {
   "cell_type": "markdown",
   "id": "13156591",
   "metadata": {},
   "source": [
    "10. What is the oldest date in the ```to_date``` column?"
   ]
  },
  {
   "cell_type": "code",
   "execution_count": 18,
   "id": "5c8a378b",
   "metadata": {},
   "outputs": [
    {
     "data": {
      "text/plain": [
       "datetime.date(1985, 3, 1)"
      ]
     },
     "execution_count": 18,
     "metadata": {},
     "output_type": "execute_result"
    }
   ],
   "source": [
    "titles.to_date.min()"
   ]
  },
  {
   "cell_type": "markdown",
   "id": "96d58c47",
   "metadata": {},
   "source": [
    "11. What is the most recent date in the to_date column?"
   ]
  },
  {
   "cell_type": "code",
   "execution_count": 19,
   "id": "cec154cc",
   "metadata": {},
   "outputs": [
    {
     "data": {
      "text/plain": [
       "datetime.date(9999, 1, 1)"
      ]
     },
     "execution_count": 19,
     "metadata": {},
     "output_type": "execute_result"
    }
   ],
   "source": [
    "titles.to_date.max()"
   ]
  },
  {
   "cell_type": "code",
   "execution_count": 77,
   "id": "b4e75ba4",
   "metadata": {},
   "outputs": [],
   "source": [
    "# a query to count the difference between today and to_date\n",
    "# the query counts the absolute value, so the difference between future and past dates have the same difference\n",
    "\n",
    "sql = '''\n",
    "select  to_date, ABS(CURDATE() - to_date) as dif\n",
    " from titles\n",
    " order by to_date desc;\n",
    "'''"
   ]
  },
  {
   "cell_type": "code",
   "execution_count": 82,
   "id": "e0db137a",
   "metadata": {},
   "outputs": [],
   "source": [
    "# move the result of the query to the df\n",
    "df = pd.read_sql(sql, url)"
   ]
  },
  {
   "cell_type": "code",
   "execution_count": 85,
   "id": "35f875c4",
   "metadata": {},
   "outputs": [
    {
     "data": {
      "text/html": [
       "<div>\n",
       "<style scoped>\n",
       "    .dataframe tbody tr th:only-of-type {\n",
       "        vertical-align: middle;\n",
       "    }\n",
       "\n",
       "    .dataframe tbody tr th {\n",
       "        vertical-align: top;\n",
       "    }\n",
       "\n",
       "    .dataframe thead th {\n",
       "        text-align: right;\n",
       "    }\n",
       "</style>\n",
       "<table border=\"1\" class=\"dataframe\">\n",
       "  <thead>\n",
       "    <tr style=\"text-align: right;\">\n",
       "      <th></th>\n",
       "      <th>to_date</th>\n",
       "      <th>dif</th>\n",
       "    </tr>\n",
       "  </thead>\n",
       "  <tbody>\n",
       "    <tr>\n",
       "      <th>240124</th>\n",
       "      <td>2002-08-01</td>\n",
       "      <td>200126</td>\n",
       "    </tr>\n",
       "    <tr>\n",
       "      <th>240125</th>\n",
       "      <td>2002-08-01</td>\n",
       "      <td>200126</td>\n",
       "    </tr>\n",
       "    <tr>\n",
       "      <th>240126</th>\n",
       "      <td>2002-08-01</td>\n",
       "      <td>200126</td>\n",
       "    </tr>\n",
       "    <tr>\n",
       "      <th>240127</th>\n",
       "      <td>2002-08-01</td>\n",
       "      <td>200126</td>\n",
       "    </tr>\n",
       "    <tr>\n",
       "      <th>240128</th>\n",
       "      <td>2002-08-01</td>\n",
       "      <td>200126</td>\n",
       "    </tr>\n",
       "    <tr>\n",
       "      <th>240129</th>\n",
       "      <td>2002-08-01</td>\n",
       "      <td>200126</td>\n",
       "    </tr>\n",
       "    <tr>\n",
       "      <th>240130</th>\n",
       "      <td>2002-08-01</td>\n",
       "      <td>200126</td>\n",
       "    </tr>\n",
       "    <tr>\n",
       "      <th>240131</th>\n",
       "      <td>2002-08-01</td>\n",
       "      <td>200126</td>\n",
       "    </tr>\n",
       "    <tr>\n",
       "      <th>240132</th>\n",
       "      <td>2002-08-01</td>\n",
       "      <td>200126</td>\n",
       "    </tr>\n",
       "    <tr>\n",
       "      <th>240133</th>\n",
       "      <td>2002-08-01</td>\n",
       "      <td>200126</td>\n",
       "    </tr>\n",
       "    <tr>\n",
       "      <th>240134</th>\n",
       "      <td>2002-08-01</td>\n",
       "      <td>200126</td>\n",
       "    </tr>\n",
       "    <tr>\n",
       "      <th>240135</th>\n",
       "      <td>2002-08-01</td>\n",
       "      <td>200126</td>\n",
       "    </tr>\n",
       "    <tr>\n",
       "      <th>240136</th>\n",
       "      <td>2002-08-01</td>\n",
       "      <td>200126</td>\n",
       "    </tr>\n",
       "    <tr>\n",
       "      <th>240137</th>\n",
       "      <td>2002-08-01</td>\n",
       "      <td>200126</td>\n",
       "    </tr>\n",
       "    <tr>\n",
       "      <th>240138</th>\n",
       "      <td>2002-08-01</td>\n",
       "      <td>200126</td>\n",
       "    </tr>\n",
       "    <tr>\n",
       "      <th>240139</th>\n",
       "      <td>2002-08-01</td>\n",
       "      <td>200126</td>\n",
       "    </tr>\n",
       "    <tr>\n",
       "      <th>240140</th>\n",
       "      <td>2002-08-01</td>\n",
       "      <td>200126</td>\n",
       "    </tr>\n",
       "    <tr>\n",
       "      <th>240141</th>\n",
       "      <td>2002-08-01</td>\n",
       "      <td>200126</td>\n",
       "    </tr>\n",
       "    <tr>\n",
       "      <th>240142</th>\n",
       "      <td>2002-08-01</td>\n",
       "      <td>200126</td>\n",
       "    </tr>\n",
       "    <tr>\n",
       "      <th>240143</th>\n",
       "      <td>2002-08-01</td>\n",
       "      <td>200126</td>\n",
       "    </tr>\n",
       "    <tr>\n",
       "      <th>240144</th>\n",
       "      <td>2002-08-01</td>\n",
       "      <td>200126</td>\n",
       "    </tr>\n",
       "    <tr>\n",
       "      <th>240145</th>\n",
       "      <td>2002-08-01</td>\n",
       "      <td>200126</td>\n",
       "    </tr>\n",
       "    <tr>\n",
       "      <th>240146</th>\n",
       "      <td>2002-08-01</td>\n",
       "      <td>200126</td>\n",
       "    </tr>\n",
       "    <tr>\n",
       "      <th>240147</th>\n",
       "      <td>2002-08-01</td>\n",
       "      <td>200126</td>\n",
       "    </tr>\n",
       "    <tr>\n",
       "      <th>240148</th>\n",
       "      <td>2002-08-01</td>\n",
       "      <td>200126</td>\n",
       "    </tr>\n",
       "    <tr>\n",
       "      <th>240149</th>\n",
       "      <td>2002-08-01</td>\n",
       "      <td>200126</td>\n",
       "    </tr>\n",
       "    <tr>\n",
       "      <th>240150</th>\n",
       "      <td>2002-08-01</td>\n",
       "      <td>200126</td>\n",
       "    </tr>\n",
       "    <tr>\n",
       "      <th>240151</th>\n",
       "      <td>2002-08-01</td>\n",
       "      <td>200126</td>\n",
       "    </tr>\n",
       "    <tr>\n",
       "      <th>240152</th>\n",
       "      <td>2002-08-01</td>\n",
       "      <td>200126</td>\n",
       "    </tr>\n",
       "    <tr>\n",
       "      <th>240153</th>\n",
       "      <td>2002-08-01</td>\n",
       "      <td>200126</td>\n",
       "    </tr>\n",
       "    <tr>\n",
       "      <th>240154</th>\n",
       "      <td>2002-08-01</td>\n",
       "      <td>200126</td>\n",
       "    </tr>\n",
       "    <tr>\n",
       "      <th>240155</th>\n",
       "      <td>2002-08-01</td>\n",
       "      <td>200126</td>\n",
       "    </tr>\n",
       "    <tr>\n",
       "      <th>240156</th>\n",
       "      <td>2002-08-01</td>\n",
       "      <td>200126</td>\n",
       "    </tr>\n",
       "    <tr>\n",
       "      <th>240157</th>\n",
       "      <td>2002-08-01</td>\n",
       "      <td>200126</td>\n",
       "    </tr>\n",
       "    <tr>\n",
       "      <th>240158</th>\n",
       "      <td>2002-08-01</td>\n",
       "      <td>200126</td>\n",
       "    </tr>\n",
       "    <tr>\n",
       "      <th>240159</th>\n",
       "      <td>2002-08-01</td>\n",
       "      <td>200126</td>\n",
       "    </tr>\n",
       "    <tr>\n",
       "      <th>240160</th>\n",
       "      <td>2002-08-01</td>\n",
       "      <td>200126</td>\n",
       "    </tr>\n",
       "    <tr>\n",
       "      <th>240161</th>\n",
       "      <td>2002-08-01</td>\n",
       "      <td>200126</td>\n",
       "    </tr>\n",
       "    <tr>\n",
       "      <th>240162</th>\n",
       "      <td>2002-08-01</td>\n",
       "      <td>200126</td>\n",
       "    </tr>\n",
       "    <tr>\n",
       "      <th>240163</th>\n",
       "      <td>2002-08-01</td>\n",
       "      <td>200126</td>\n",
       "    </tr>\n",
       "  </tbody>\n",
       "</table>\n",
       "</div>"
      ],
      "text/plain": [
       "           to_date     dif\n",
       "240124  2002-08-01  200126\n",
       "240125  2002-08-01  200126\n",
       "240126  2002-08-01  200126\n",
       "240127  2002-08-01  200126\n",
       "240128  2002-08-01  200126\n",
       "240129  2002-08-01  200126\n",
       "240130  2002-08-01  200126\n",
       "240131  2002-08-01  200126\n",
       "240132  2002-08-01  200126\n",
       "240133  2002-08-01  200126\n",
       "240134  2002-08-01  200126\n",
       "240135  2002-08-01  200126\n",
       "240136  2002-08-01  200126\n",
       "240137  2002-08-01  200126\n",
       "240138  2002-08-01  200126\n",
       "240139  2002-08-01  200126\n",
       "240140  2002-08-01  200126\n",
       "240141  2002-08-01  200126\n",
       "240142  2002-08-01  200126\n",
       "240143  2002-08-01  200126\n",
       "240144  2002-08-01  200126\n",
       "240145  2002-08-01  200126\n",
       "240146  2002-08-01  200126\n",
       "240147  2002-08-01  200126\n",
       "240148  2002-08-01  200126\n",
       "240149  2002-08-01  200126\n",
       "240150  2002-08-01  200126\n",
       "240151  2002-08-01  200126\n",
       "240152  2002-08-01  200126\n",
       "240153  2002-08-01  200126\n",
       "240154  2002-08-01  200126\n",
       "240155  2002-08-01  200126\n",
       "240156  2002-08-01  200126\n",
       "240157  2002-08-01  200126\n",
       "240158  2002-08-01  200126\n",
       "240159  2002-08-01  200126\n",
       "240160  2002-08-01  200126\n",
       "240161  2002-08-01  200126\n",
       "240162  2002-08-01  200126\n",
       "240163  2002-08-01  200126"
      ]
     },
     "execution_count": 85,
     "metadata": {},
     "output_type": "execute_result"
    }
   ],
   "source": [
    "#past_date[past_date.dif == past_date.dif.min()].to_date.head(1)\n",
    "recent_date = df[df.dif == df.dif.min()]\n",
    "recent_date"
   ]
  },
  {
   "cell_type": "code",
   "execution_count": 86,
   "id": "d818a5d3",
   "metadata": {},
   "outputs": [
    {
     "data": {
      "text/plain": [
       "240124    2002-08-01\n",
       "Name: to_date, dtype: object"
      ]
     },
     "execution_count": 86,
     "metadata": {},
     "output_type": "execute_result"
    }
   ],
   "source": [
    "recent_date.head(1).to_date"
   ]
  }
 ],
 "metadata": {
  "kernelspec": {
   "display_name": "Python 3 (ipykernel)",
   "language": "python",
   "name": "python3"
  },
  "language_info": {
   "codemirror_mode": {
    "name": "ipython",
    "version": 3
   },
   "file_extension": ".py",
   "mimetype": "text/x-python",
   "name": "python",
   "nbconvert_exporter": "python",
   "pygments_lexer": "ipython3",
   "version": "3.9.12"
  }
 },
 "nbformat": 4,
 "nbformat_minor": 5
}
