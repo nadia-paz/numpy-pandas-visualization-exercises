{
 "cells": [
  {
   "cell_type": "code",
   "execution_count": 1,
   "id": "2f7af95a",
   "metadata": {},
   "outputs": [],
   "source": [
    "import numpy as np"
   ]
  },
  {
   "cell_type": "code",
   "execution_count": 4,
   "id": "4767909d",
   "metadata": {
    "scrolled": true
   },
   "outputs": [
    {
     "data": {
      "text/plain": [
       "array([ 4, 10, 12, 23, -2, -1,  0,  0,  0, -6,  3, -7])"
      ]
     },
     "execution_count": 4,
     "metadata": {},
     "output_type": "execute_result"
    }
   ],
   "source": [
    "a = np.array([4, 10, 12, 23, -2, -1, 0, 0, 0, -6, 3, -7])\n",
    "a"
   ]
  },
  {
   "cell_type": "markdown",
   "id": "83f239cd",
   "metadata": {},
   "source": [
    "**#1 How many negative numbers are there?**"
   ]
  },
  {
   "cell_type": "code",
   "execution_count": 23,
   "id": "c587e1b4",
   "metadata": {},
   "outputs": [
    {
     "name": "stdout",
     "output_type": "stream",
     "text": [
      "[-2 -1 -6 -7]\n"
     ]
    },
    {
     "data": {
      "text/plain": [
       "array([ 4, 10, 12, 23, -2, -1,  0,  0,  0, -6,  3, -7])"
      ]
     },
     "execution_count": 23,
     "metadata": {},
     "output_type": "execute_result"
    }
   ],
   "source": [
    "negative_numbers = a[a < 0]\n",
    "print(negative_numbers)\n",
    "negative_numbers.size\n",
    "a"
   ]
  },
  {
   "cell_type": "markdown",
   "id": "fda3378c",
   "metadata": {},
   "source": [
    "**#2 How many positive numbers are there?**"
   ]
  },
  {
   "cell_type": "code",
   "execution_count": 25,
   "id": "472b0027",
   "metadata": {},
   "outputs": [
    {
     "data": {
      "text/plain": [
       "5"
      ]
     },
     "execution_count": 25,
     "metadata": {},
     "output_type": "execute_result"
    }
   ],
   "source": [
    "positive_numbers = a[a > 0]\n",
    "positive_numbers.size"
   ]
  },
  {
   "cell_type": "markdown",
   "id": "2a4978f1",
   "metadata": {},
   "source": [
    "**#3 How many even positive numbers are there?**"
   ]
  },
  {
   "cell_type": "code",
   "execution_count": 97,
   "id": "acc0855a",
   "metadata": {},
   "outputs": [
    {
     "name": "stdout",
     "output_type": "stream",
     "text": [
      "[ 4 10 12 23 -2 -1  0  0  0 -6  3 -7]\n",
      "[ 4 10 12]\n"
     ]
    }
   ],
   "source": [
    "#positive_even_numbers = np.where((a > 0) & (a % 2 == 0)) #works not like i need\n",
    "print(a)\n",
    "positive_even_numbers = (a[a % 2 == 0])[(a[a % 2 == 0]) > 0]\n",
    "print(positive_even_numbers)"
   ]
  },
  {
   "cell_type": "code",
   "execution_count": 42,
   "id": "15999b48",
   "metadata": {},
   "outputs": [],
   "source": [
    "# positive_even_numbers2 = a[(a > 0) and (a % 2 == 0)]"
   ]
  },
  {
   "cell_type": "markdown",
   "id": "197db451",
   "metadata": {},
   "source": [
    "**#4 If you were to add 3 to each data point, how many positive numbers would there be?**"
   ]
  },
  {
   "cell_type": "code",
   "execution_count": 5,
   "id": "31cd0305",
   "metadata": {},
   "outputs": [
    {
     "data": {
      "text/plain": [
       "5"
      ]
     },
     "execution_count": 5,
     "metadata": {},
     "output_type": "execute_result"
    }
   ],
   "source": [
    "plus_3_positive = a + 3\n",
    "plus_3_positive = (a + 3)[a > 0]\n",
    "plus_3_positive.size\n"
   ]
  },
  {
   "cell_type": "markdown",
   "id": "283bfc95",
   "metadata": {},
   "source": [
    "**#5 If you squared each number, what would the new mean and standard deviation be?**"
   ]
  },
  {
   "cell_type": "code",
   "execution_count": 8,
   "id": "2fa455a8",
   "metadata": {},
   "outputs": [
    {
     "name": "stdout",
     "output_type": "stream",
     "text": [
      "Mean is 74.0, STD is 144.02\n"
     ]
    }
   ],
   "source": [
    "squared_array = a ** 2\n",
    "squared_mean = np.mean(squared_array)\n",
    "squared_std = np.std(squared_array)\n",
    "print(f'Mean is {squared_mean}, STD is {round(squared_std, 2)}')"
   ]
  },
  {
   "cell_type": "markdown",
   "id": "8ff2a291",
   "metadata": {},
   "source": [
    "**#6 A common statistical operation on a dataset is centering. \n",
    "This means to adjust the data such that the mean of the data is 0. \n",
    "This is done by subtracting the mean from each data point. Center the data set.**"
   ]
  },
  {
   "cell_type": "code",
   "execution_count": 13,
   "id": "438dd863",
   "metadata": {},
   "outputs": [
    {
     "data": {
      "text/plain": [
       "0.0"
      ]
     },
     "execution_count": 13,
     "metadata": {},
     "output_type": "execute_result"
    }
   ],
   "source": [
    "#mean = np.mean(a)\n",
    "centered_array = a - int(np.mean(a))\n",
    "np.mean(centered_array)"
   ]
  },
  {
   "cell_type": "markdown",
   "id": "c96b6f4f",
   "metadata": {},
   "source": [
    "**#7 Calculate the z-score for each data point.**"
   ]
  },
  {
   "cell_type": "code",
   "execution_count": 23,
   "id": "6cc9db45",
   "metadata": {},
   "outputs": [
    {
     "data": {
      "text/plain": [
       "array([ 0.12,  0.87,  1.12,  2.48, -0.62, -0.5 , -0.37, -0.37, -0.37,\n",
       "       -1.12,  0.  , -1.24])"
      ]
     },
     "execution_count": 23,
     "metadata": {},
     "output_type": "execute_result"
    }
   ],
   "source": [
    "zscores = (a - int(np.mean(a))) / np.std(a)\n",
    "zscores = np.array([round(z, 2) for z in zscores])\n",
    "zscores"
   ]
  },
  {
   "cell_type": "markdown",
   "id": "7cd82fc8",
   "metadata": {},
   "source": [
    "### More exersices"
   ]
  },
  {
   "cell_type": "code",
   "execution_count": 24,
   "id": "8e3b3948",
   "metadata": {},
   "outputs": [],
   "source": [
    "a = [1, 2, 3, 4, 5, 6, 7, 8, 9, 10]"
   ]
  },
  {
   "cell_type": "markdown",
   "id": "7c61758b",
   "metadata": {},
   "source": [
    "**Exercise 1 - Make a variable called sum_of_a to hold the sum of all the numbers in above list**"
   ]
  },
  {
   "cell_type": "code",
   "execution_count": 47,
   "id": "1d94f314",
   "metadata": {},
   "outputs": [
    {
     "name": "stdout",
     "output_type": "stream",
     "text": [
      "55\n",
      "55\n"
     ]
    }
   ],
   "source": [
    "sum_of_a = sum(a)\n",
    "print(sum_of_a) #55\n",
    "sum_of_a = np.array(a).sum()\n",
    "print(sum_of_a)"
   ]
  },
  {
   "cell_type": "markdown",
   "id": "fdf74f80",
   "metadata": {},
   "source": [
    "**Exercise 2 - Make a variable named min_of_a to hold the minimum of all the numbers in the above list**"
   ]
  },
  {
   "cell_type": "code",
   "execution_count": 48,
   "id": "c4b8cec9",
   "metadata": {},
   "outputs": [
    {
     "name": "stdout",
     "output_type": "stream",
     "text": [
      "1\n",
      "1\n"
     ]
    }
   ],
   "source": [
    "min_of_a = min(a)\n",
    "print(min_of_a) #1\n",
    "min_of_a = np.array(a).min()\n",
    "print(min_of_a)"
   ]
  },
  {
   "cell_type": "markdown",
   "id": "f238f9da",
   "metadata": {},
   "source": [
    "**# Exercise 3 - Make a variable named max_of_a to hold the max number of all the numbers in the above list**"
   ]
  },
  {
   "cell_type": "code",
   "execution_count": 56,
   "id": "118a1296",
   "metadata": {},
   "outputs": [
    {
     "name": "stdout",
     "output_type": "stream",
     "text": [
      "10\n",
      "10\n"
     ]
    }
   ],
   "source": [
    "max_of_a = max(a)\n",
    "print(max_of_a) #10\n",
    "#with numpy\n",
    "max_of_a = np.array(a).max()\n",
    "print(max_of_a)"
   ]
  },
  {
   "cell_type": "markdown",
   "id": "869d2748",
   "metadata": {},
   "source": [
    "**# Exercise 4 - Make a variable named mean_of_a to hold the average of all the numbers in the above list**"
   ]
  },
  {
   "cell_type": "code",
   "execution_count": 34,
   "id": "2a87a8bc",
   "metadata": {},
   "outputs": [
    {
     "data": {
      "text/plain": [
       "5.5"
      ]
     },
     "execution_count": 34,
     "metadata": {},
     "output_type": "execute_result"
    }
   ],
   "source": [
    "mean_of_a = sum(a) / len(a)\n",
    "#or\n",
    "mean_of_a = np.mean(a)\n",
    "mean_of_a"
   ]
  },
  {
   "cell_type": "markdown",
   "id": "980ac37d",
   "metadata": {},
   "source": [
    "**# Exercise 5 - Make a variable named product_of_a to hold the product of multiplying all the numbers in the above list together**"
   ]
  },
  {
   "cell_type": "code",
   "execution_count": 35,
   "id": "1d8aecad",
   "metadata": {},
   "outputs": [
    {
     "data": {
      "text/plain": [
       "3628800"
      ]
     },
     "execution_count": 35,
     "metadata": {},
     "output_type": "execute_result"
    }
   ],
   "source": [
    "product_of_a = np.prod(a)\n",
    "product_of_a #3628800"
   ]
  },
  {
   "cell_type": "markdown",
   "id": "bb52fb46",
   "metadata": {},
   "source": [
    "**# Exercise 6 - Make a variable named squares_of_a. It should hold each number in a squared like [1, 4, 9, 16, 25...]**"
   ]
  },
  {
   "cell_type": "code",
   "execution_count": 37,
   "id": "8b962905",
   "metadata": {},
   "outputs": [
    {
     "name": "stdout",
     "output_type": "stream",
     "text": [
      "[1, 4, 9, 16, 25, 36, 49, 64, 81, 100]\n",
      "[  1   4   9  16  25  36  49  64  81 100]\n"
     ]
    }
   ],
   "source": [
    "squares_of_a = [n ** 2 for n in a]\n",
    "print(squares_of_a)\n",
    "#or\n",
    "squares_of_a = np.array(a) ** 2\n",
    "print(squares_of_a)"
   ]
  },
  {
   "cell_type": "markdown",
   "id": "abd831f9",
   "metadata": {},
   "source": [
    "**# Exercise 7 - Make a variable named odds_in_a. It should hold only the odd numbers**"
   ]
  },
  {
   "cell_type": "code",
   "execution_count": 42,
   "id": "129b6428",
   "metadata": {},
   "outputs": [
    {
     "name": "stdout",
     "output_type": "stream",
     "text": [
      "[1, 3, 5, 7, 9]\n",
      "[1 3 5 7 9]\n"
     ]
    }
   ],
   "source": [
    "odds_in_a = [n for n in a if n % 2 == 1]\n",
    "print(odds_in_a)\n",
    "# or with numpy\n",
    "odds_in_a = np.array(a)[np.array(a) % 2 == 1]\n",
    "print(odds_in_a)"
   ]
  },
  {
   "cell_type": "markdown",
   "id": "03ee9bc5",
   "metadata": {},
   "source": [
    "**# Exercise 8 - Make a variable named evens_in_a. It should hold only the evens.**"
   ]
  },
  {
   "cell_type": "code",
   "execution_count": 43,
   "id": "dcd8e1a7",
   "metadata": {},
   "outputs": [
    {
     "name": "stdout",
     "output_type": "stream",
     "text": [
      "[2, 4, 6, 8, 10]\n",
      "[ 2  4  6  8 10]\n"
     ]
    }
   ],
   "source": [
    "evens_in_a = [n for n in a if n % 2 == 0]\n",
    "print(evens_in_a)\n",
    "#or with numpy\n",
    "evens_in_a = np.array(a)[np.array(a) % 2 == 0]\n",
    "print(evens_in_a)"
   ]
  },
  {
   "cell_type": "markdown",
   "id": "1f1108d1",
   "metadata": {},
   "source": [
    "### 2D arrays\n",
    "**What about life in two dimensions? A list of lists is matrix, a table, a spreadsheet, a chessboard...**\n",
    "*Setup 2: Consider what it would take to find the sum, min, max, average, sum, product, and list of squares for this list of two lists.*"
   ]
  },
  {
   "cell_type": "code",
   "execution_count": 44,
   "id": "c2d1c785",
   "metadata": {},
   "outputs": [],
   "source": [
    "b = [\n",
    "    [3, 4, 5],\n",
    "    [6, 7, 8]\n",
    "]"
   ]
  },
  {
   "cell_type": "markdown",
   "id": "eeb2942c",
   "metadata": {},
   "source": [
    "*Transform b into a numpy array*"
   ]
  },
  {
   "cell_type": "code",
   "execution_count": 52,
   "id": "4cdf1db7",
   "metadata": {},
   "outputs": [
    {
     "name": "stdout",
     "output_type": "stream",
     "text": [
      "[[3 4 5]\n",
      " [6 7 8]]\n"
     ]
    }
   ],
   "source": [
    "b_arr = np.array(b)\n",
    "print(b_arr)"
   ]
  },
  {
   "cell_type": "markdown",
   "id": "01aab324",
   "metadata": {},
   "source": [
    "**# Exercise 1 - refactor the following to use numpy. Use sum_of_b as the variable. **Hint, you'll first need to make sure that the \"b\" variable is a numpy array**\n",
    "\n",
    "```python\n",
    "sum_of_b = 0\n",
    "for row in b:\n",
    "    sum_of_b += sum(row)\n",
    "```"
   ]
  },
  {
   "cell_type": "code",
   "execution_count": 54,
   "id": "d994334a",
   "metadata": {},
   "outputs": [
    {
     "name": "stdout",
     "output_type": "stream",
     "text": [
      "33\n"
     ]
    }
   ],
   "source": [
    "sum_of_b = b_arr.sum()\n",
    "print(sum_of_b)"
   ]
  },
  {
   "cell_type": "markdown",
   "id": "74d6ced6",
   "metadata": {},
   "source": [
    "**# Exercise 2 - refactor the following to use numpy.**\n",
    "```python\n",
    "min_of_b = min(b[0]) if min(b[0]) <= min(b[1]) else min(b[1])\n",
    "```"
   ]
  },
  {
   "cell_type": "code",
   "execution_count": 55,
   "id": "14d0f185",
   "metadata": {},
   "outputs": [
    {
     "name": "stdout",
     "output_type": "stream",
     "text": [
      "3\n"
     ]
    }
   ],
   "source": [
    "min_of_b = b_arr.min()\n",
    "print(min_of_b)"
   ]
  },
  {
   "cell_type": "markdown",
   "id": "f89e9867",
   "metadata": {},
   "source": [
    "**# Exercise 3 - refactor the following maximum calculation to find the answer with numpy.**\n",
    "```python\n",
    "max_of_b = max(b[0]) if max(b[0]) >= max(b[1]) else max(b[1])```\n"
   ]
  },
  {
   "cell_type": "code",
   "execution_count": 57,
   "id": "7a9cf9a1",
   "metadata": {},
   "outputs": [
    {
     "name": "stdout",
     "output_type": "stream",
     "text": [
      "8\n"
     ]
    }
   ],
   "source": [
    "max_of_b = b_arr.max()\n",
    "print(max_of_b)"
   ]
  },
  {
   "cell_type": "markdown",
   "id": "cf62bfac",
   "metadata": {},
   "source": [
    "**# Exercise 4 - refactor the following using numpy to find the mean of b**\n",
    "```python\n",
    "mean_of_b = (sum(b[0]) + sum(b[1])) / (len(b[0]) + len(b[1]))\n",
    "```"
   ]
  },
  {
   "cell_type": "code",
   "execution_count": 58,
   "id": "68b6b311",
   "metadata": {},
   "outputs": [
    {
     "name": "stdout",
     "output_type": "stream",
     "text": [
      "5.5\n"
     ]
    }
   ],
   "source": [
    "mean_of_b = b_arr.mean()\n",
    "print(mean_of_b)"
   ]
  },
  {
   "cell_type": "markdown",
   "id": "7477ca17",
   "metadata": {},
   "source": [
    "**# Exercise 5 - refactor the following to use numpy for calculating the product of all numbers multiplied together.**\n",
    "```python\n",
    "product_of_b = 1\n",
    "for row in b:\n",
    "    for number in row:\n",
    "        product_of_b *= number\n",
    "```"
   ]
  },
  {
   "cell_type": "code",
   "execution_count": 59,
   "id": "4cc86ee5",
   "metadata": {},
   "outputs": [
    {
     "name": "stdout",
     "output_type": "stream",
     "text": [
      "20160\n"
     ]
    }
   ],
   "source": [
    "prod_of_b = np.prod(b_arr)\n",
    "print(prod_of_b)"
   ]
  },
  {
   "cell_type": "markdown",
   "id": "8d730c5e",
   "metadata": {},
   "source": [
    "**# Exercise 6 - refactor the following to use numpy to find the list of squares **\n",
    "```python\n",
    "squares_of_b = []\n",
    "for row in b:\n",
    "    for number in row:\n",
    "        squares_of_b.append(number**2)\n",
    "```"
   ]
  },
  {
   "cell_type": "code",
   "execution_count": 60,
   "id": "f315f3b4",
   "metadata": {},
   "outputs": [
    {
     "name": "stdout",
     "output_type": "stream",
     "text": [
      "[[ 9 16 25]\n",
      " [36 49 64]]\n"
     ]
    }
   ],
   "source": [
    "squares_of_b = b_arr ** 2\n",
    "print(squares_of_b)"
   ]
  },
  {
   "cell_type": "markdown",
   "id": "955b2898",
   "metadata": {},
   "source": [
    "**# Exercise 7 - refactor using numpy to determine the odds_in_b**\n",
    "```python\n",
    "odds_in_b = []\n",
    "for row in b:\n",
    "    for number in row:\n",
    "        if(number % 2 != 0):\n",
    "            odds_in_b.append(number)\n",
    "```"
   ]
  },
  {
   "cell_type": "code",
   "execution_count": 65,
   "id": "7e74f9aa",
   "metadata": {},
   "outputs": [
    {
     "name": "stdout",
     "output_type": "stream",
     "text": [
      "[3 5 7]\n"
     ]
    }
   ],
   "source": [
    "odds_in_b = b_arr.flatten()[b_arr.flatten() % 2 == 1]\n",
    "#or\n",
    "b_arr_list = b_arr.flatten() #I use it in the next exercise\n",
    "odds_in_b = b_arr_list[b_arr_list % 2 != 0]\n",
    "\n",
    "print(odds_in_b)"
   ]
  },
  {
   "cell_type": "markdown",
   "id": "567d86a9",
   "metadata": {},
   "source": [
    "**# Exercise 8 - refactor the following to use numpy to filter only the even numbers**\n",
    "```python\n",
    "evens_in_b = []\n",
    "for row in b:\n",
    "    for number in row:\n",
    "        if(number % 2 == 0):\n",
    "            evens_in_b.append(number)\n",
    "```"
   ]
  },
  {
   "cell_type": "code",
   "execution_count": 66,
   "id": "671d9ed2",
   "metadata": {},
   "outputs": [
    {
     "name": "stdout",
     "output_type": "stream",
     "text": [
      "[4 6 8]\n"
     ]
    }
   ],
   "source": [
    "evens_in_b = b_arr_list[b_arr_list % 2 == 0] #b_arr_list from the previous exercise\n",
    "print(evens_in_b)"
   ]
  },
  {
   "cell_type": "markdown",
   "id": "78246633",
   "metadata": {},
   "source": [
    "**# Exercise 10 - transpose the array b.**"
   ]
  },
  {
   "cell_type": "code",
   "execution_count": 73,
   "id": "e11a06a1",
   "metadata": {},
   "outputs": [
    {
     "name": "stdout",
     "output_type": "stream",
     "text": [
      "[[3 6]\n",
      " [4 7]\n",
      " [5 8]]\n"
     ]
    }
   ],
   "source": [
    "b_transposed = b_arr.transpose((1, 0))\n",
    "print(b_transposed)"
   ]
  },
  {
   "cell_type": "markdown",
   "id": "01bce3a3",
   "metadata": {},
   "source": [
    "**# Exercise 11 - reshape the array b to be a single list of 6 numbers. (1 x 6)**"
   ]
  },
  {
   "cell_type": "code",
   "execution_count": 83,
   "id": "ce433b5f",
   "metadata": {},
   "outputs": [
    {
     "name": "stdout",
     "output_type": "stream",
     "text": [
      "[[3 4 5 6 7 8]]\n"
     ]
    }
   ],
   "source": [
    "b_arr_list = b_arr.reshape(1, 6)\n",
    "print(b_arr_list)"
   ]
  },
  {
   "cell_type": "markdown",
   "id": "16349235",
   "metadata": {},
   "source": [
    "**# Exercise 12 - reshape the array b to be a list of 6 lists, each containing only 1 number (6 x 1)**"
   ]
  },
  {
   "cell_type": "code",
   "execution_count": 86,
   "id": "d5b67e8a",
   "metadata": {},
   "outputs": [
    {
     "name": "stdout",
     "output_type": "stream",
     "text": [
      "[[3]\n",
      " [4]\n",
      " [5]\n",
      " [6]\n",
      " [7]\n",
      " [8]]\n"
     ]
    }
   ],
   "source": [
    "arr_vertical = b_arr.reshape(6, 1)\n",
    "print(arr_vertical)"
   ]
  },
  {
   "cell_type": "markdown",
   "id": "17c504dc",
   "metadata": {},
   "source": [
    "##  3D arrays"
   ]
  },
  {
   "cell_type": "code",
   "execution_count": 87,
   "id": "a71ae4f5",
   "metadata": {},
   "outputs": [],
   "source": [
    "c = [\n",
    "    [1, 2, 3],\n",
    "    [4, 5, 6],\n",
    "    [7, 8, 9]\n",
    "]"
   ]
  },
  {
   "cell_type": "code",
   "execution_count": 88,
   "id": "42e84d96",
   "metadata": {},
   "outputs": [
    {
     "data": {
      "text/plain": [
       "array([[1, 2, 3],\n",
       "       [4, 5, 6],\n",
       "       [7, 8, 9]])"
      ]
     },
     "execution_count": 88,
     "metadata": {},
     "output_type": "execute_result"
    }
   ],
   "source": [
    "#transform c to a numpy array\n",
    "c = np.array(c)\n",
    "c"
   ]
  },
  {
   "cell_type": "markdown",
   "id": "49a731cf",
   "metadata": {},
   "source": [
    "**# Exercise 1 - Find the min, max, sum, and product of c.**"
   ]
  },
  {
   "cell_type": "code",
   "execution_count": 90,
   "id": "fe01dd45",
   "metadata": {},
   "outputs": [
    {
     "name": "stdout",
     "output_type": "stream",
     "text": [
      "Min is 1, \n",
      "Max is 9, \n",
      "Product is 362880\n"
     ]
    }
   ],
   "source": [
    "min_of_c = c.min()\n",
    "max_of_c = c.max()\n",
    "prod_of_c = c.prod()\n",
    "print(f'Min is {min_of_c}, \\nMax is {max_of_c}, \\nProduct is {prod_of_c}')"
   ]
  },
  {
   "cell_type": "markdown",
   "id": "b2821f59",
   "metadata": {},
   "source": [
    "**# Exercise 2 - Determine the standard deviation of c.**"
   ]
  },
  {
   "cell_type": "code",
   "execution_count": 91,
   "id": "595fda81",
   "metadata": {},
   "outputs": [
    {
     "name": "stdout",
     "output_type": "stream",
     "text": [
      "2.581988897471611\n"
     ]
    }
   ],
   "source": [
    "std_of_c = c.std()\n",
    "print(std_of_c)"
   ]
  },
  {
   "cell_type": "markdown",
   "id": "df5bb386",
   "metadata": {},
   "source": [
    "**# Exercise 3 - Determine the variance of c.**"
   ]
  },
  {
   "cell_type": "code",
   "execution_count": 93,
   "id": "c27e64e8",
   "metadata": {},
   "outputs": [
    {
     "data": {
      "text/plain": [
       "6.666666666666667"
      ]
     },
     "execution_count": 93,
     "metadata": {},
     "output_type": "execute_result"
    }
   ],
   "source": [
    "var_of_c = c.var()\n",
    "var_of_c"
   ]
  },
  {
   "cell_type": "markdown",
   "id": "4f92445c",
   "metadata": {},
   "source": [
    "**# Exercise 4 - Print out the shape of the array c**"
   ]
  },
  {
   "cell_type": "code",
   "execution_count": 96,
   "id": "c38755e4",
   "metadata": {},
   "outputs": [
    {
     "name": "stdout",
     "output_type": "stream",
     "text": [
      "(3, 3)\n"
     ]
    }
   ],
   "source": [
    "print(c.shape)"
   ]
  },
  {
   "cell_type": "markdown",
   "id": "4f86a329",
   "metadata": {},
   "source": [
    "**# Exercise 5 - Transpose c and print out transposed result.**"
   ]
  },
  {
   "cell_type": "code",
   "execution_count": 104,
   "id": "e49073d6",
   "metadata": {},
   "outputs": [
    {
     "name": "stdout",
     "output_type": "stream",
     "text": [
      "[[1 4 7]\n",
      " [2 5 8]\n",
      " [3 6 9]]\n"
     ]
    }
   ],
   "source": [
    "print(c.transpose())"
   ]
  },
  {
   "cell_type": "markdown",
   "id": "e043499d",
   "metadata": {},
   "source": [
    "**# Exercise 6 - Get the dot product of the array c with c.**"
   ]
  },
  {
   "cell_type": "code",
   "execution_count": 103,
   "id": "1b066f3b",
   "metadata": {},
   "outputs": [
    {
     "name": "stdout",
     "output_type": "stream",
     "text": [
      "[[ 30  36  42]\n",
      " [ 66  81  96]\n",
      " [102 126 150]]\n"
     ]
    }
   ],
   "source": [
    "dot_prod = np.dot(c, c)\n",
    "print(dot_prod)"
   ]
  },
  {
   "cell_type": "markdown",
   "id": "092adfb0",
   "metadata": {},
   "source": [
    "**# Exercise 7 - Write the code necessary to sum up the result of c times c transposed. Answer should be 261**"
   ]
  },
  {
   "cell_type": "code",
   "execution_count": 105,
   "id": "b08be92b",
   "metadata": {},
   "outputs": [
    {
     "data": {
      "text/plain": [
       "261"
      ]
     },
     "execution_count": 105,
     "metadata": {},
     "output_type": "execute_result"
    }
   ],
   "source": [
    "sum_with_transpose = (c * c.transpose()).sum()\n",
    "sum_with_transpose"
   ]
  },
  {
   "cell_type": "markdown",
   "id": "c2e4fb5a",
   "metadata": {},
   "source": [
    "**# Exercise 8 - Write the code necessary to determine the product of c times c transposed. Answer should be 131681894400**"
   ]
  },
  {
   "cell_type": "code",
   "execution_count": 106,
   "id": "a2d1e5e6",
   "metadata": {},
   "outputs": [
    {
     "data": {
      "text/plain": [
       "131681894400"
      ]
     },
     "execution_count": 106,
     "metadata": {},
     "output_type": "execute_result"
    }
   ],
   "source": [
    "prod_with_transpose = (c * c.transpose()).prod()\n",
    "prod_with_transpose"
   ]
  },
  {
   "cell_type": "markdown",
   "id": "91348bcf",
   "metadata": {},
   "source": [
    "## Setup 4"
   ]
  },
  {
   "cell_type": "code",
   "execution_count": 3,
   "id": "6ed91570",
   "metadata": {},
   "outputs": [],
   "source": [
    "d = [\n",
    "    [90, 30, 45, 0, 120, 180],\n",
    "    [45, -90, -30, 270, 90, 0],\n",
    "    [60, 45, -45, 90, -45, 180]\n",
    "]"
   ]
  },
  {
   "cell_type": "code",
   "execution_count": 4,
   "id": "44f76832",
   "metadata": {},
   "outputs": [],
   "source": [
    "d = np.array(d)"
   ]
  },
  {
   "cell_type": "markdown",
   "id": "7c388167",
   "metadata": {},
   "source": [
    "**# Exercise 1 - Find the sine of all the numbers in d**"
   ]
  },
  {
   "cell_type": "code",
   "execution_count": 47,
   "id": "1492ad44",
   "metadata": {},
   "outputs": [
    {
     "data": {
      "text/plain": [
       "array([[ 0.89399666, -0.98803162,  0.85090352,  0.        ,  0.58061118,\n",
       "        -0.80115264],\n",
       "       [ 0.85090352, -0.89399666,  0.98803162, -0.17604595,  0.89399666,\n",
       "         0.        ],\n",
       "       [-0.30481062,  0.85090352, -0.85090352,  0.89399666, -0.85090352,\n",
       "        -0.80115264]])"
      ]
     },
     "execution_count": 47,
     "metadata": {},
     "output_type": "execute_result"
    }
   ],
   "source": [
    "sin_d = np.sin(d)\n",
    "sin_d"
   ]
  },
  {
   "cell_type": "markdown",
   "id": "ad83acbc",
   "metadata": {},
   "source": [
    "**# Exercise 2 - Find the cosine of all the numbers in d**"
   ]
  },
  {
   "cell_type": "code",
   "execution_count": 48,
   "id": "99a09360",
   "metadata": {},
   "outputs": [
    {
     "data": {
      "text/plain": [
       "array([[-0.44807362,  0.15425145,  0.52532199,  1.        ,  0.81418097,\n",
       "        -0.59846007],\n",
       "       [ 0.52532199, -0.44807362,  0.15425145,  0.98438195, -0.44807362,\n",
       "         1.        ],\n",
       "       [-0.95241298,  0.52532199,  0.52532199, -0.44807362,  0.52532199,\n",
       "        -0.59846007]])"
      ]
     },
     "execution_count": 48,
     "metadata": {},
     "output_type": "execute_result"
    }
   ],
   "source": [
    "cos_d = np.cos(d)\n",
    "cos_d"
   ]
  },
  {
   "cell_type": "markdown",
   "id": "5a607cf9",
   "metadata": {},
   "source": [
    "**# Exercise 3 - Find the tangent of all the numbers in d**"
   ]
  },
  {
   "cell_type": "code",
   "execution_count": 49,
   "id": "654289e1",
   "metadata": {},
   "outputs": [
    {
     "data": {
      "text/plain": [
       "array([[-1.99520041, -6.4053312 ,  1.61977519,  0.        ,  0.71312301,\n",
       "         1.33869021],\n",
       "       [ 1.61977519,  1.99520041,  6.4053312 , -0.17883906, -1.99520041,\n",
       "         0.        ],\n",
       "       [ 0.32004039,  1.61977519, -1.61977519, -1.99520041, -1.61977519,\n",
       "         1.33869021]])"
      ]
     },
     "execution_count": 49,
     "metadata": {},
     "output_type": "execute_result"
    }
   ],
   "source": [
    "tan_d = np.tan(d)\n",
    "tan_d"
   ]
  },
  {
   "cell_type": "markdown",
   "id": "44e4b4cd",
   "metadata": {},
   "source": [
    "**# Exercise 4 - Find all the negative numbers in d**"
   ]
  },
  {
   "cell_type": "code",
   "execution_count": 50,
   "id": "91105262",
   "metadata": {},
   "outputs": [
    {
     "data": {
      "text/plain": [
       "(3, 6)"
      ]
     },
     "execution_count": 50,
     "metadata": {},
     "output_type": "execute_result"
    }
   ],
   "source": [
    "np.shape(d)"
   ]
  },
  {
   "cell_type": "code",
   "execution_count": 63,
   "id": "cfeef13b",
   "metadata": {},
   "outputs": [
    {
     "data": {
      "text/plain": [
       "array([False, False,  True, False,  True, False])"
      ]
     },
     "execution_count": 63,
     "metadata": {},
     "output_type": "execute_result"
    }
   ],
   "source": [
    "d[2] < 0"
   ]
  },
  {
   "cell_type": "code",
   "execution_count": 52,
   "id": "c876c96d",
   "metadata": {},
   "outputs": [
    {
     "data": {
      "text/plain": [
       "[-90, -30, -45, -45]"
      ]
     },
     "execution_count": 52,
     "metadata": {},
     "output_type": "execute_result"
    }
   ],
   "source": [
    "#solved with python list, need to find a way to solve with numpy only\n",
    "neg_d = []\n",
    "for x in d:\n",
    "    for y in x:\n",
    "        if y < 0:\n",
    "            neg_d.append(y)\n",
    "neg_d"
   ]
  },
  {
   "cell_type": "code",
   "execution_count": 8,
   "id": "c98990e4",
   "metadata": {},
   "outputs": [
    {
     "data": {
      "text/plain": [
       "array([-90, -30, -45, -45])"
      ]
     },
     "execution_count": 8,
     "metadata": {},
     "output_type": "execute_result"
    }
   ],
   "source": [
    "np.shape(d)\n",
    "neg_d1 = d[d < 0]\n",
    "neg_d1"
   ]
  },
  {
   "cell_type": "markdown",
   "id": "ea6b8876",
   "metadata": {},
   "source": [
    "**# Exercise 5 - Find all the positive numbers in d**"
   ]
  },
  {
   "cell_type": "code",
   "execution_count": 9,
   "id": "bd89585d",
   "metadata": {},
   "outputs": [
    {
     "data": {
      "text/plain": [
       "array([ 90,  30,  45, 120, 180,  45, 270,  90,  60,  45,  90, 180])"
      ]
     },
     "execution_count": 9,
     "metadata": {},
     "output_type": "execute_result"
    }
   ],
   "source": [
    "np.shape(d)\n",
    "neg_d1 = d[d > 0]\n",
    "neg_d1"
   ]
  },
  {
   "cell_type": "markdown",
   "id": "8f1aebc9",
   "metadata": {},
   "source": [
    "**# Exercise 6 - Return an array of only the unique numbers in d.**"
   ]
  },
  {
   "cell_type": "code",
   "execution_count": 11,
   "id": "04e03d7d",
   "metadata": {},
   "outputs": [
    {
     "data": {
      "text/plain": [
       "array([-90, -45, -30,   0,  30,  45,  60,  90, 120, 180, 270])"
      ]
     },
     "execution_count": 11,
     "metadata": {},
     "output_type": "execute_result"
    }
   ],
   "source": [
    "np.unique(d)"
   ]
  },
  {
   "cell_type": "markdown",
   "id": "fd1a0317",
   "metadata": {},
   "source": [
    "**# Exercise 7 - Determine how many unique numbers there are in d.**"
   ]
  },
  {
   "cell_type": "code",
   "execution_count": 15,
   "id": "e9bfc74a",
   "metadata": {},
   "outputs": [
    {
     "data": {
      "text/plain": [
       "11"
      ]
     },
     "execution_count": 15,
     "metadata": {},
     "output_type": "execute_result"
    }
   ],
   "source": [
    "np.unique(d).size"
   ]
  },
  {
   "cell_type": "markdown",
   "id": "5ae96936",
   "metadata": {},
   "source": [
    "**# Exercise 8 - Print out the shape of d.**"
   ]
  },
  {
   "cell_type": "code",
   "execution_count": 16,
   "id": "50f69fff",
   "metadata": {},
   "outputs": [
    {
     "data": {
      "text/plain": [
       "(3, 6)"
      ]
     },
     "execution_count": 16,
     "metadata": {},
     "output_type": "execute_result"
    }
   ],
   "source": [
    "np.shape(d)"
   ]
  },
  {
   "cell_type": "markdown",
   "id": "c4239427",
   "metadata": {},
   "source": [
    "**# Exercise 9 - Transpose and then print out the shape of d.**"
   ]
  },
  {
   "cell_type": "code",
   "execution_count": 20,
   "id": "32e5aadf",
   "metadata": {},
   "outputs": [
    {
     "data": {
      "text/plain": [
       "(6, 3)"
      ]
     },
     "execution_count": 20,
     "metadata": {},
     "output_type": "execute_result"
    }
   ],
   "source": [
    "np.shape(np.transpose(d))"
   ]
  },
  {
   "cell_type": "markdown",
   "id": "841d9c5f",
   "metadata": {},
   "source": [
    "**# Exercise 10 - Reshape d into an array of 9 x 2**"
   ]
  },
  {
   "cell_type": "code",
   "execution_count": 23,
   "id": "a23f8a91",
   "metadata": {},
   "outputs": [
    {
     "data": {
      "text/plain": [
       "array([[ 90,  30],\n",
       "       [ 45,   0],\n",
       "       [120, 180],\n",
       "       [ 45, -90],\n",
       "       [-30, 270],\n",
       "       [ 90,   0],\n",
       "       [ 60,  45],\n",
       "       [-45,  90],\n",
       "       [-45, 180]])"
      ]
     },
     "execution_count": 23,
     "metadata": {},
     "output_type": "execute_result"
    }
   ],
   "source": [
    "np.reshape(d, (9, 2))"
   ]
  },
  {
   "cell_type": "code",
   "execution_count": null,
   "id": "5c66999c",
   "metadata": {},
   "outputs": [],
   "source": []
  }
 ],
 "metadata": {
  "kernelspec": {
   "display_name": "Python 3 (ipykernel)",
   "language": "python",
   "name": "python3"
  },
  "language_info": {
   "codemirror_mode": {
    "name": "ipython",
    "version": 3
   },
   "file_extension": ".py",
   "mimetype": "text/x-python",
   "name": "python",
   "nbconvert_exporter": "python",
   "pygments_lexer": "ipython3",
   "version": "3.9.12"
  }
 },
 "nbformat": 4,
 "nbformat_minor": 5
}
