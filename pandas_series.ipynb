{
 "cells": [
  {
   "cell_type": "code",
   "execution_count": 1,
   "id": "45f80b81",
   "metadata": {},
   "outputs": [],
   "source": [
    "import pandas as pd\n",
    "import matplotlib.pyplot as plt"
   ]
  },
  {
   "cell_type": "code",
   "execution_count": 2,
   "id": "c07b9acc",
   "metadata": {},
   "outputs": [],
   "source": [
    "fruits = pd.Series([\"kiwi\", \"mango\", \"strawberry\", \"pineapple\", \"gala apple\", \"honeycrisp apple\", \"tomato\", \"watermelon\", \"honeydew\", \"kiwi\", \"kiwi\", \"kiwi\", \"mango\", \"blueberry\", \"blackberry\", \"gooseberry\", \"papaya\"])"
   ]
  },
  {
   "cell_type": "code",
   "execution_count": 3,
   "id": "129b88c0",
   "metadata": {},
   "outputs": [
    {
     "data": {
      "text/plain": [
       "0                 kiwi\n",
       "1                mango\n",
       "2           strawberry\n",
       "3            pineapple\n",
       "4           gala apple\n",
       "5     honeycrisp apple\n",
       "6               tomato\n",
       "7           watermelon\n",
       "8             honeydew\n",
       "9                 kiwi\n",
       "10                kiwi\n",
       "11                kiwi\n",
       "12               mango\n",
       "13           blueberry\n",
       "14          blackberry\n",
       "15          gooseberry\n",
       "16              papaya\n",
       "dtype: object"
      ]
     },
     "execution_count": 3,
     "metadata": {},
     "output_type": "execute_result"
    }
   ],
   "source": [
    "fruits"
   ]
  },
  {
   "cell_type": "markdown",
   "id": "bb03405d",
   "metadata": {},
   "source": [
    "**Use Series attributes and methods to explore your fruits Series.**\n",
    "\n",
    "1. Determine the number of elements in fruits."
   ]
  },
  {
   "cell_type": "code",
   "execution_count": 4,
   "id": "5088f5ff",
   "metadata": {},
   "outputs": [
    {
     "data": {
      "text/plain": [
       "17"
      ]
     },
     "execution_count": 4,
     "metadata": {},
     "output_type": "execute_result"
    }
   ],
   "source": [
    "fruits.size #fruits.count(), len(fruits)"
   ]
  },
  {
   "cell_type": "markdown",
   "id": "60d5a065",
   "metadata": {},
   "source": [
    "2. Output only the index from fruits."
   ]
  },
  {
   "cell_type": "code",
   "execution_count": 5,
   "id": "15a0aadd",
   "metadata": {},
   "outputs": [
    {
     "data": {
      "text/plain": [
       "[0, 1, 2, 3, 4, 5, 6, 7, 8, 9, 10, 11, 12, 13, 14, 15, 16]"
      ]
     },
     "execution_count": 5,
     "metadata": {},
     "output_type": "execute_result"
    }
   ],
   "source": [
    "list(fruits.index)"
   ]
  },
  {
   "cell_type": "markdown",
   "id": "2bc291a4",
   "metadata": {},
   "source": [
    "3. Output only the values from fruits."
   ]
  },
  {
   "cell_type": "code",
   "execution_count": 6,
   "id": "df32213f",
   "metadata": {},
   "outputs": [
    {
     "data": {
      "text/plain": [
       "array(['kiwi', 'mango', 'strawberry', 'pineapple', 'gala apple',\n",
       "       'honeycrisp apple', 'tomato', 'watermelon', 'honeydew', 'kiwi',\n",
       "       'kiwi', 'kiwi', 'mango', 'blueberry', 'blackberry', 'gooseberry',\n",
       "       'papaya'], dtype=object)"
      ]
     },
     "execution_count": 6,
     "metadata": {},
     "output_type": "execute_result"
    }
   ],
   "source": [
    "fruits.values"
   ]
  },
  {
   "cell_type": "markdown",
   "id": "0b4fdeb3",
   "metadata": {},
   "source": [
    "4. Confirm the data type of the values in fruits."
   ]
  },
  {
   "cell_type": "code",
   "execution_count": 7,
   "id": "3128fa37",
   "metadata": {},
   "outputs": [
    {
     "data": {
      "text/plain": [
       "dtype('O')"
      ]
     },
     "execution_count": 7,
     "metadata": {},
     "output_type": "execute_result"
    }
   ],
   "source": [
    "fruits.dtype"
   ]
  },
  {
   "cell_type": "markdown",
   "id": "858ff66f",
   "metadata": {},
   "source": [
    "5. Output only the first five values from fruits. Output the last three values. Output two random values from fruits."
   ]
  },
  {
   "cell_type": "code",
   "execution_count": 8,
   "id": "16751648",
   "metadata": {},
   "outputs": [
    {
     "data": {
      "text/plain": [
       "0          kiwi\n",
       "1         mango\n",
       "2    strawberry\n",
       "3     pineapple\n",
       "4    gala apple\n",
       "dtype: object"
      ]
     },
     "execution_count": 8,
     "metadata": {},
     "output_type": "execute_result"
    }
   ],
   "source": [
    "fruits.head()"
   ]
  },
  {
   "cell_type": "code",
   "execution_count": 9,
   "id": "2510ef1a",
   "metadata": {},
   "outputs": [
    {
     "data": {
      "text/plain": [
       "14    blackberry\n",
       "15    gooseberry\n",
       "16        papaya\n",
       "dtype: object"
      ]
     },
     "execution_count": 9,
     "metadata": {},
     "output_type": "execute_result"
    }
   ],
   "source": [
    "fruits.tail(3)"
   ]
  },
  {
   "cell_type": "code",
   "execution_count": 10,
   "id": "cdaa7966",
   "metadata": {},
   "outputs": [
    {
     "data": {
      "text/plain": [
       "1          mango\n",
       "15    gooseberry\n",
       "dtype: object"
      ]
     },
     "execution_count": 10,
     "metadata": {},
     "output_type": "execute_result"
    }
   ],
   "source": [
    "fruits.sample(2)"
   ]
  },
  {
   "cell_type": "markdown",
   "id": "e4959fef",
   "metadata": {},
   "source": [
    "6. Run the .describe() on fruits to see what information it returns when called on a Series with string values."
   ]
  },
  {
   "cell_type": "code",
   "execution_count": 11,
   "id": "56e784ef",
   "metadata": {},
   "outputs": [
    {
     "data": {
      "text/plain": [
       "count       17\n",
       "unique      13\n",
       "top       kiwi\n",
       "freq         4\n",
       "dtype: object"
      ]
     },
     "execution_count": 11,
     "metadata": {},
     "output_type": "execute_result"
    }
   ],
   "source": [
    "fruits.describe()"
   ]
  },
  {
   "cell_type": "markdown",
   "id": "edb6ecc8",
   "metadata": {},
   "source": [
    "7. Run the code necessary to produce only the unique string values from fruits."
   ]
  },
  {
   "cell_type": "code",
   "execution_count": 12,
   "id": "fc291683",
   "metadata": {},
   "outputs": [
    {
     "data": {
      "text/plain": [
       "array(['kiwi', 'mango', 'strawberry', 'pineapple', 'gala apple',\n",
       "       'honeycrisp apple', 'tomato', 'watermelon', 'honeydew',\n",
       "       'blueberry', 'blackberry', 'gooseberry', 'papaya'], dtype=object)"
      ]
     },
     "execution_count": 12,
     "metadata": {},
     "output_type": "execute_result"
    }
   ],
   "source": [
    "fruits.unique()"
   ]
  },
  {
   "cell_type": "markdown",
   "id": "5d732da9",
   "metadata": {},
   "source": [
    "8. Determine how many times each unique string value occurs in fruits."
   ]
  },
  {
   "cell_type": "code",
   "execution_count": 13,
   "id": "155eb834",
   "metadata": {},
   "outputs": [
    {
     "data": {
      "text/plain": [
       "kiwi                4\n",
       "mango               2\n",
       "strawberry          1\n",
       "pineapple           1\n",
       "gala apple          1\n",
       "honeycrisp apple    1\n",
       "tomato              1\n",
       "watermelon          1\n",
       "honeydew            1\n",
       "blueberry           1\n",
       "blackberry          1\n",
       "gooseberry          1\n",
       "papaya              1\n",
       "dtype: int64"
      ]
     },
     "execution_count": 13,
     "metadata": {},
     "output_type": "execute_result"
    }
   ],
   "source": [
    "fruits.value_counts()"
   ]
  },
  {
   "cell_type": "markdown",
   "id": "e92e458f",
   "metadata": {},
   "source": [
    "9. Determine the string value that occurs most frequently in fruits."
   ]
  },
  {
   "cell_type": "code",
   "execution_count": 14,
   "id": "d7e01ab8",
   "metadata": {},
   "outputs": [
    {
     "data": {
      "text/plain": [
       "kiwi                4\n",
       "mango               2\n",
       "strawberry          1\n",
       "pineapple           1\n",
       "gala apple          1\n",
       "honeycrisp apple    1\n",
       "tomato              1\n",
       "watermelon          1\n",
       "honeydew            1\n",
       "blueberry           1\n",
       "blackberry          1\n",
       "gooseberry          1\n",
       "papaya              1\n",
       "dtype: int64"
      ]
     },
     "execution_count": 14,
     "metadata": {},
     "output_type": "execute_result"
    }
   ],
   "source": [
    "fruits_count = fruits.value_counts()\n",
    "fruits_count"
   ]
  },
  {
   "cell_type": "code",
   "execution_count": 15,
   "id": "908ba841",
   "metadata": {},
   "outputs": [
    {
     "data": {
      "text/plain": [
       "0    kiwi\n",
       "dtype: object"
      ]
     },
     "execution_count": 15,
     "metadata": {},
     "output_type": "execute_result"
    }
   ],
   "source": [
    "fruits.mode()"
   ]
  },
  {
   "cell_type": "code",
   "execution_count": 16,
   "id": "3f7aa8f0",
   "metadata": {},
   "outputs": [
    {
     "data": {
      "text/plain": [
       "'kiwi'"
      ]
     },
     "execution_count": 16,
     "metadata": {},
     "output_type": "execute_result"
    }
   ],
   "source": [
    "fruits.value_counts().idxmax()"
   ]
  },
  {
   "cell_type": "code",
   "execution_count": 17,
   "id": "2b0197df",
   "metadata": {},
   "outputs": [
    {
     "data": {
      "text/plain": [
       "'kiwi'"
      ]
     },
     "execution_count": 17,
     "metadata": {},
     "output_type": "execute_result"
    }
   ],
   "source": [
    "fruits.value_counts().index[0]"
   ]
  },
  {
   "cell_type": "code",
   "execution_count": 18,
   "id": "a8178852",
   "metadata": {},
   "outputs": [
    {
     "data": {
      "text/plain": [
       "kiwi    4\n",
       "dtype: int64"
      ]
     },
     "execution_count": 18,
     "metadata": {},
     "output_type": "execute_result"
    }
   ],
   "source": [
    "fruits_count.nlargest(n = 1, keep='all')\n"
   ]
  },
  {
   "cell_type": "markdown",
   "id": "b93db6be",
   "metadata": {},
   "source": [
    "10. Determine the string value that occurs least frequently in fruits."
   ]
  },
  {
   "cell_type": "code",
   "execution_count": 19,
   "id": "71ef48f9",
   "metadata": {},
   "outputs": [
    {
     "data": {
      "text/plain": [
       "'strawberry'"
      ]
     },
     "execution_count": 19,
     "metadata": {},
     "output_type": "execute_result"
    }
   ],
   "source": [
    "fruits.value_counts().idxmin()"
   ]
  },
  {
   "cell_type": "code",
   "execution_count": 20,
   "id": "d86f6237",
   "metadata": {},
   "outputs": [
    {
     "data": {
      "text/plain": [
       "'papaya'"
      ]
     },
     "execution_count": 20,
     "metadata": {},
     "output_type": "execute_result"
    }
   ],
   "source": [
    "fruits.value_counts().index[-1] #[-1] - points to the last index in the array/list/Series"
   ]
  },
  {
   "cell_type": "code",
   "execution_count": 21,
   "id": "c942688b",
   "metadata": {},
   "outputs": [
    {
     "data": {
      "text/plain": [
       "1"
      ]
     },
     "execution_count": 21,
     "metadata": {},
     "output_type": "execute_result"
    }
   ],
   "source": [
    "fruits.value_counts().min()"
   ]
  },
  {
   "cell_type": "code",
   "execution_count": 22,
   "id": "c6ec727c",
   "metadata": {},
   "outputs": [],
   "source": [
    "#there lost of fruits that appear only once, to show them all we need list / array or Series\n",
    "#create a Series where the value_counts equals the minimum value fruits.value_counts().min() = 1\n",
    "fruits_min = fruits.value_counts().index[fruits.value_counts() == 1]"
   ]
  },
  {
   "cell_type": "code",
   "execution_count": 23,
   "id": "d072c307",
   "metadata": {},
   "outputs": [
    {
     "data": {
      "text/plain": [
       "['strawberry',\n",
       " 'pineapple',\n",
       " 'gala apple',\n",
       " 'honeycrisp apple',\n",
       " 'tomato',\n",
       " 'watermelon',\n",
       " 'honeydew',\n",
       " 'blueberry',\n",
       " 'blackberry',\n",
       " 'gooseberry',\n",
       " 'papaya']"
      ]
     },
     "execution_count": 23,
     "metadata": {},
     "output_type": "execute_result"
    }
   ],
   "source": [
    "#pass those values into the list\n",
    "list(fruits_min)"
   ]
  },
  {
   "cell_type": "code",
   "execution_count": 24,
   "id": "dee59536",
   "metadata": {},
   "outputs": [
    {
     "data": {
      "text/plain": [
       "strawberry          1\n",
       "pineapple           1\n",
       "gala apple          1\n",
       "honeycrisp apple    1\n",
       "tomato              1\n",
       "watermelon          1\n",
       "honeydew            1\n",
       "blueberry           1\n",
       "blackberry          1\n",
       "gooseberry          1\n",
       "papaya              1\n",
       "dtype: int64"
      ]
     },
     "execution_count": 24,
     "metadata": {},
     "output_type": "execute_result"
    }
   ],
   "source": [
    "#returns all values that appear only once (min)\n",
    "fruits_count.nsmallest(n=1, keep='all')"
   ]
  },
  {
   "cell_type": "markdown",
   "id": "2c23bfa8",
   "metadata": {},
   "source": [
    "### Exercises Part II\n",
    "*Explore more attributes and methods while you continue to work with the fruits Series.*\n",
    "1. Capitalize all the string values in fruits."
   ]
  },
  {
   "cell_type": "code",
   "execution_count": 25,
   "id": "decd5815",
   "metadata": {},
   "outputs": [
    {
     "data": {
      "text/plain": [
       "0                 KIWI\n",
       "1                MANGO\n",
       "2           STRAWBERRY\n",
       "3            PINEAPPLE\n",
       "4           GALA APPLE\n",
       "5     HONEYCRISP APPLE\n",
       "6               TOMATO\n",
       "7           WATERMELON\n",
       "8             HONEYDEW\n",
       "9                 KIWI\n",
       "10                KIWI\n",
       "11                KIWI\n",
       "12               MANGO\n",
       "13           BLUEBERRY\n",
       "14          BLACKBERRY\n",
       "15          GOOSEBERRY\n",
       "16              PAPAYA\n",
       "dtype: object"
      ]
     },
     "execution_count": 25,
     "metadata": {},
     "output_type": "execute_result"
    }
   ],
   "source": [
    "fruits.str.upper()"
   ]
  },
  {
   "cell_type": "markdown",
   "id": "fce193e7",
   "metadata": {},
   "source": [
    "2. Count the letter \"a\" in all the string values (use string vectorization)."
   ]
  },
  {
   "cell_type": "code",
   "execution_count": 26,
   "id": "13feab98",
   "metadata": {},
   "outputs": [
    {
     "data": {
      "text/plain": [
       "0     0\n",
       "1     1\n",
       "2     1\n",
       "3     1\n",
       "4     3\n",
       "5     1\n",
       "6     1\n",
       "7     1\n",
       "8     0\n",
       "9     0\n",
       "10    0\n",
       "11    0\n",
       "12    1\n",
       "13    0\n",
       "14    1\n",
       "15    0\n",
       "16    3\n",
       "dtype: int64"
      ]
     },
     "execution_count": 26,
     "metadata": {},
     "output_type": "execute_result"
    }
   ],
   "source": [
    "fruits.str.count('a')"
   ]
  },
  {
   "cell_type": "markdown",
   "id": "29564c20",
   "metadata": {},
   "source": [
    "3. Output the number of vowels in each and every string value."
   ]
  },
  {
   "cell_type": "code",
   "execution_count": 27,
   "id": "48cd99c1",
   "metadata": {},
   "outputs": [
    {
     "data": {
      "text/plain": [
       "0                 kiwi\n",
       "1                mango\n",
       "2           strawberry\n",
       "3            pineapple\n",
       "4           gala apple\n",
       "5     honeycrisp apple\n",
       "6               tomato\n",
       "7           watermelon\n",
       "8             honeydew\n",
       "9                 kiwi\n",
       "10                kiwi\n",
       "11                kiwi\n",
       "12               mango\n",
       "13           blueberry\n",
       "14          blackberry\n",
       "15          gooseberry\n",
       "16              papaya\n",
       "dtype: object"
      ]
     },
     "execution_count": 27,
     "metadata": {},
     "output_type": "execute_result"
    }
   ],
   "source": [
    "fruits"
   ]
  },
  {
   "cell_type": "code",
   "execution_count": 28,
   "id": "8b9e264d",
   "metadata": {},
   "outputs": [
    {
     "data": {
      "text/plain": [
       "0     2\n",
       "1     2\n",
       "2     2\n",
       "3     4\n",
       "4     4\n",
       "5     5\n",
       "6     3\n",
       "7     4\n",
       "8     3\n",
       "9     2\n",
       "10    2\n",
       "11    2\n",
       "12    2\n",
       "13    3\n",
       "14    2\n",
       "15    4\n",
       "16    3\n",
       "dtype: int64"
      ]
     },
     "execution_count": 28,
     "metadata": {},
     "output_type": "execute_result"
    }
   ],
   "source": [
    "vowels = ['aeiou']\n",
    "fruits.str.count('a|e|i|o|u')"
   ]
  },
  {
   "cell_type": "code",
   "execution_count": 29,
   "id": "995a914c",
   "metadata": {},
   "outputs": [
    {
     "data": {
      "text/plain": [
       "0     2\n",
       "1     2\n",
       "2     2\n",
       "3     4\n",
       "4     4\n",
       "5     5\n",
       "6     3\n",
       "7     4\n",
       "8     3\n",
       "9     2\n",
       "10    2\n",
       "11    2\n",
       "12    2\n",
       "13    3\n",
       "14    2\n",
       "15    4\n",
       "16    3\n",
       "dtype: int64"
      ]
     },
     "execution_count": 29,
     "metadata": {},
     "output_type": "execute_result"
    }
   ],
   "source": [
    "fruits.str.count(r'[aeiuo]')"
   ]
  },
  {
   "cell_type": "markdown",
   "id": "4dff82b5",
   "metadata": {},
   "source": [
    "4. Write the code to get the longest string value from fruits."
   ]
  },
  {
   "cell_type": "code",
   "execution_count": 30,
   "id": "722aa8e5",
   "metadata": {},
   "outputs": [
    {
     "data": {
      "text/plain": [
       "16"
      ]
     },
     "execution_count": 30,
     "metadata": {},
     "output_type": "execute_result"
    }
   ],
   "source": [
    "fruits.str.len().max()"
   ]
  },
  {
   "cell_type": "code",
   "execution_count": 31,
   "id": "bb89bb72",
   "metadata": {},
   "outputs": [
    {
     "data": {
      "text/plain": [
       "'honeycrisp apple'"
      ]
     },
     "execution_count": 31,
     "metadata": {},
     "output_type": "execute_result"
    }
   ],
   "source": [
    "fruits[fruits.str.len().idxmax()]"
   ]
  },
  {
   "cell_type": "markdown",
   "id": "b988aa0c",
   "metadata": {},
   "source": [
    "5. Write the code to get the string values with 5 or more letters in the name."
   ]
  },
  {
   "cell_type": "code",
   "execution_count": 32,
   "id": "d30b1811",
   "metadata": {},
   "outputs": [
    {
     "data": {
      "text/plain": [
       "1                mango\n",
       "2           strawberry\n",
       "3            pineapple\n",
       "4           gala apple\n",
       "5     honeycrisp apple\n",
       "6               tomato\n",
       "7           watermelon\n",
       "8             honeydew\n",
       "12               mango\n",
       "13           blueberry\n",
       "14          blackberry\n",
       "15          gooseberry\n",
       "16              papaya\n",
       "dtype: object"
      ]
     },
     "execution_count": 32,
     "metadata": {},
     "output_type": "execute_result"
    }
   ],
   "source": [
    "fruits[fruits.str.len() >= 5]"
   ]
  },
  {
   "cell_type": "markdown",
   "id": "34b14b40",
   "metadata": {},
   "source": [
    "6. Find the fruit(s) containing the letter \"o\" two or more times."
   ]
  },
  {
   "cell_type": "code",
   "execution_count": 33,
   "id": "cb926b7a",
   "metadata": {},
   "outputs": [
    {
     "data": {
      "text/plain": [
       "6         tomato\n",
       "15    gooseberry\n",
       "dtype: object"
      ]
     },
     "execution_count": 33,
     "metadata": {},
     "output_type": "execute_result"
    }
   ],
   "source": [
    "fruits[fruits.str.count('o') >= 2]"
   ]
  },
  {
   "cell_type": "markdown",
   "id": "031ce422",
   "metadata": {},
   "source": [
    "7. Write the code to get only the string values containing the substring \"berry\"."
   ]
  },
  {
   "cell_type": "code",
   "execution_count": 34,
   "id": "d7d55cdf",
   "metadata": {},
   "outputs": [
    {
     "data": {
      "text/plain": [
       "2     strawberry\n",
       "13     blueberry\n",
       "14    blackberry\n",
       "15    gooseberry\n",
       "dtype: object"
      ]
     },
     "execution_count": 34,
     "metadata": {},
     "output_type": "execute_result"
    }
   ],
   "source": [
    "fruits[fruits.str[-5:] == 'berry']"
   ]
  },
  {
   "cell_type": "code",
   "execution_count": 35,
   "id": "5fef5dd0",
   "metadata": {},
   "outputs": [
    {
     "data": {
      "text/plain": [
       "2     strawberry\n",
       "13     blueberry\n",
       "14    blackberry\n",
       "15    gooseberry\n",
       "dtype: object"
      ]
     },
     "execution_count": 35,
     "metadata": {},
     "output_type": "execute_result"
    }
   ],
   "source": [
    "fruits[fruits.str.contains('berry')]"
   ]
  },
  {
   "cell_type": "markdown",
   "id": "aca00375",
   "metadata": {},
   "source": [
    "8. Write the code to get only the string values containing the substring \"apple\"."
   ]
  },
  {
   "cell_type": "code",
   "execution_count": 36,
   "id": "1082e0a6",
   "metadata": {},
   "outputs": [
    {
     "data": {
      "text/plain": [
       "3           pineapple\n",
       "4          gala apple\n",
       "5    honeycrisp apple\n",
       "dtype: object"
      ]
     },
     "execution_count": 36,
     "metadata": {},
     "output_type": "execute_result"
    }
   ],
   "source": [
    "fruits[fruits.str.contains('apple')]"
   ]
  },
  {
   "cell_type": "markdown",
   "id": "64b47acb",
   "metadata": {},
   "source": [
    "9. Which string value contains the most vowels?"
   ]
  },
  {
   "cell_type": "code",
   "execution_count": 37,
   "id": "47f68cd9",
   "metadata": {},
   "outputs": [
    {
     "data": {
      "text/plain": [
       "'honeycrisp apple'"
      ]
     },
     "execution_count": 37,
     "metadata": {},
     "output_type": "execute_result"
    }
   ],
   "source": [
    "fruits[fruits.str.count('a|e|i|o|u').max()]"
   ]
  },
  {
   "cell_type": "markdown",
   "id": "d110eeb2",
   "metadata": {},
   "source": [
    "### Exercises Part III\n",
    "**Use pandas to create a Series named ```letters``` from the following string. The easiest way to make this string into a Pandas series is to use list to convert each individual letter into a single string on a basic Python list.**\n"
   ]
  },
  {
   "cell_type": "code",
   "execution_count": 38,
   "id": "cbdf3e4b",
   "metadata": {},
   "outputs": [],
   "source": [
    "letters = pd.Series( list('hnvidduckkqxwymbimkccexbkmqygkxoyndmcxnwqarhyffsjpsrabtjzsypmzadfavyrnndndvswreauxovncxtwzpwejilzjrmmbbgbyxvjtewqthafnbkqplarokkyydtubbmnexoypulzwfhqvckdpqtpoppzqrmcvhhpwgjwupgzhiofohawytlsiyecuproguy'))"
   ]
  },
  {
   "cell_type": "code",
   "execution_count": 39,
   "id": "9fa78707",
   "metadata": {},
   "outputs": [
    {
     "data": {
      "text/plain": [
       "0      h\n",
       "1      n\n",
       "2      v\n",
       "3      i\n",
       "4      d\n",
       "      ..\n",
       "195    r\n",
       "196    o\n",
       "197    g\n",
       "198    u\n",
       "199    y\n",
       "Length: 200, dtype: object"
      ]
     },
     "execution_count": 39,
     "metadata": {},
     "output_type": "execute_result"
    }
   ],
   "source": [
    "letters"
   ]
  },
  {
   "cell_type": "code",
   "execution_count": 40,
   "id": "1bb53e2c",
   "metadata": {},
   "outputs": [
    {
     "data": {
      "text/plain": [
       "y    13\n",
       "p    12\n",
       "w    10\n",
       "b     9\n",
       "n     9\n",
       "k     9\n",
       "m     9\n",
       "r     8\n",
       "a     8\n",
       "o     8\n",
       "h     8\n",
       "x     8\n",
       "q     8\n",
       "c     8\n",
       "d     8\n",
       "u     7\n",
       "v     7\n",
       "t     7\n",
       "z     7\n",
       "e     6\n",
       "f     6\n",
       "j     6\n",
       "g     5\n",
       "i     5\n",
       "s     5\n",
       "l     4\n",
       "dtype: int64"
      ]
     },
     "execution_count": 40,
     "metadata": {},
     "output_type": "execute_result"
    }
   ],
   "source": [
    "letters_count = letters.value_counts()\n",
    "letters_count"
   ]
  },
  {
   "cell_type": "markdown",
   "id": "d2abe291",
   "metadata": {},
   "source": [
    "1. Which letter occurs the most frequently in the letters Series?"
   ]
  },
  {
   "cell_type": "code",
   "execution_count": 41,
   "id": "6e21e333",
   "metadata": {},
   "outputs": [
    {
     "data": {
      "text/plain": [
       "{'Letter': 'y', 'Count': 13}"
      ]
     },
     "execution_count": 41,
     "metadata": {},
     "output_type": "execute_result"
    }
   ],
   "source": [
    "#create vars that hold the most freq. letter and how many times it occurs\n",
    "max_letter = letters.value_counts().idxmax() #this letter occurs the most\n",
    "max_count = letters.value_counts().max()\n",
    "#insert those vars into a dictionary to hold together\n",
    "dict_max_letter = {\n",
    "    'Letter' : max_letter,\n",
    "    'Count' : max_count\n",
    "}\n",
    "dict_max_letter"
   ]
  },
  {
   "cell_type": "code",
   "execution_count": 42,
   "id": "6e26bf9b",
   "metadata": {},
   "outputs": [
    {
     "data": {
      "text/html": [
       "<div>\n",
       "<style scoped>\n",
       "    .dataframe tbody tr th:only-of-type {\n",
       "        vertical-align: middle;\n",
       "    }\n",
       "\n",
       "    .dataframe tbody tr th {\n",
       "        vertical-align: top;\n",
       "    }\n",
       "\n",
       "    .dataframe thead th {\n",
       "        text-align: right;\n",
       "    }\n",
       "</style>\n",
       "<table border=\"1\" class=\"dataframe\">\n",
       "  <thead>\n",
       "    <tr style=\"text-align: right;\">\n",
       "      <th></th>\n",
       "      <th>Letter</th>\n",
       "      <th>Count</th>\n",
       "    </tr>\n",
       "  </thead>\n",
       "  <tbody>\n",
       "    <tr>\n",
       "      <th>0</th>\n",
       "      <td>y</td>\n",
       "      <td>13</td>\n",
       "    </tr>\n",
       "  </tbody>\n",
       "</table>\n",
       "</div>"
      ],
      "text/plain": [
       "  Letter  Count\n",
       "0      y     13"
      ]
     },
     "execution_count": 42,
     "metadata": {},
     "output_type": "execute_result"
    }
   ],
   "source": [
    "#create a DataFrame from the dict for better output\n",
    "pd.DataFrame(dict_max_letter, index = [0])"
   ]
  },
  {
   "cell_type": "markdown",
   "id": "5ef86db3",
   "metadata": {},
   "source": [
    "2. Which letter occurs the Least frequently?"
   ]
  },
  {
   "cell_type": "code",
   "execution_count": 43,
   "id": "f9209446",
   "metadata": {},
   "outputs": [
    {
     "data": {
      "text/html": [
       "<div>\n",
       "<style scoped>\n",
       "    .dataframe tbody tr th:only-of-type {\n",
       "        vertical-align: middle;\n",
       "    }\n",
       "\n",
       "    .dataframe tbody tr th {\n",
       "        vertical-align: top;\n",
       "    }\n",
       "\n",
       "    .dataframe thead th {\n",
       "        text-align: right;\n",
       "    }\n",
       "</style>\n",
       "<table border=\"1\" class=\"dataframe\">\n",
       "  <thead>\n",
       "    <tr style=\"text-align: right;\">\n",
       "      <th></th>\n",
       "      <th>Letter</th>\n",
       "      <th>Count</th>\n",
       "    </tr>\n",
       "  </thead>\n",
       "  <tbody>\n",
       "    <tr>\n",
       "      <th>0</th>\n",
       "      <td>l</td>\n",
       "      <td>4</td>\n",
       "    </tr>\n",
       "  </tbody>\n",
       "</table>\n",
       "</div>"
      ],
      "text/plain": [
       "  Letter  Count\n",
       "0      l      4"
      ]
     },
     "execution_count": 43,
     "metadata": {},
     "output_type": "execute_result"
    }
   ],
   "source": [
    "#create vars that hold the least frequent letter and how many timew it occures\n",
    "min_count = letters.value_counts()[-1] #[-1] - points to the last index in the array/list/Series\n",
    "min_letter = letters.value_counts().idxmin() #this letter occurs the least\n",
    "#insert vars into a dictionary\n",
    "dict_min_letter = {\n",
    "    'Letter' : min_letter,\n",
    "    'Count' : min_count\n",
    "}\n",
    "#pass the dictionary to a DataFrame for better view\n",
    "pd.DataFrame(dict_min_letter, index = [0])"
   ]
  },
  {
   "cell_type": "code",
   "execution_count": 44,
   "id": "db415b82",
   "metadata": {},
   "outputs": [
    {
     "data": {
      "text/plain": [
       "{'Letter': ['y', 'l'], 'Count': [13, 4]}"
      ]
     },
     "execution_count": 44,
     "metadata": {},
     "output_type": "execute_result"
    }
   ],
   "source": [
    "#create a dictionary that holds both min and max values\n",
    "max_min_dict = {\n",
    "    'Letter' : [max_letter, min_letter],\n",
    "    'Count' : [max_count, min_count]\n",
    "}\n",
    "max_min_dict"
   ]
  },
  {
   "cell_type": "code",
   "execution_count": 45,
   "id": "07af428c",
   "metadata": {},
   "outputs": [
    {
     "data": {
      "text/html": [
       "<div>\n",
       "<style scoped>\n",
       "    .dataframe tbody tr th:only-of-type {\n",
       "        vertical-align: middle;\n",
       "    }\n",
       "\n",
       "    .dataframe tbody tr th {\n",
       "        vertical-align: top;\n",
       "    }\n",
       "\n",
       "    .dataframe thead th {\n",
       "        text-align: right;\n",
       "    }\n",
       "</style>\n",
       "<table border=\"1\" class=\"dataframe\">\n",
       "  <thead>\n",
       "    <tr style=\"text-align: right;\">\n",
       "      <th></th>\n",
       "      <th>Letter</th>\n",
       "      <th>Count</th>\n",
       "    </tr>\n",
       "  </thead>\n",
       "  <tbody>\n",
       "    <tr>\n",
       "      <th>max</th>\n",
       "      <td>y</td>\n",
       "      <td>13</td>\n",
       "    </tr>\n",
       "    <tr>\n",
       "      <th>min</th>\n",
       "      <td>l</td>\n",
       "      <td>4</td>\n",
       "    </tr>\n",
       "  </tbody>\n",
       "</table>\n",
       "</div>"
      ],
      "text/plain": [
       "    Letter  Count\n",
       "max      y     13\n",
       "min      l      4"
      ]
     },
     "execution_count": 45,
     "metadata": {},
     "output_type": "execute_result"
    }
   ],
   "source": [
    "#create a DF with min and max values, set indexes as max and min\n",
    "max_min_df = pd.DataFrame(max_min_dict, index = ['max', 'min'])\n",
    "max_min_df"
   ]
  },
  {
   "cell_type": "markdown",
   "id": "65bf5a92",
   "metadata": {},
   "source": [
    "3. How many vowels are in the Series?"
   ]
  },
  {
   "cell_type": "code",
   "execution_count": 46,
   "id": "4dbeaf28",
   "metadata": {},
   "outputs": [
    {
     "data": {
      "text/plain": [
       "34"
      ]
     },
     "execution_count": 46,
     "metadata": {},
     "output_type": "execute_result"
    }
   ],
   "source": [
    "vowels = list('aeiou')\n",
    "letters[letters.isin(vowels)].count()"
   ]
  },
  {
   "cell_type": "markdown",
   "id": "a69977cf",
   "metadata": {},
   "source": [
    "4. How many consonants are in the Series?"
   ]
  },
  {
   "cell_type": "code",
   "execution_count": 47,
   "id": "ae6fbb1d",
   "metadata": {},
   "outputs": [
    {
     "data": {
      "text/plain": [
       "166"
      ]
     },
     "execution_count": 47,
     "metadata": {},
     "output_type": "execute_result"
    }
   ],
   "source": [
    "letters.size - letters[letters.isin(vowels)].count()"
   ]
  },
  {
   "cell_type": "markdown",
   "id": "2adfaa57",
   "metadata": {},
   "source": [
    "5. Create a Series that has all of the same letters but uppercased."
   ]
  },
  {
   "cell_type": "code",
   "execution_count": 48,
   "id": "475e2845",
   "metadata": {},
   "outputs": [
    {
     "data": {
      "text/plain": [
       "0      H\n",
       "1      N\n",
       "2      V\n",
       "3      I\n",
       "4      D\n",
       "      ..\n",
       "195    R\n",
       "196    O\n",
       "197    G\n",
       "198    U\n",
       "199    Y\n",
       "Length: 200, dtype: object"
      ]
     },
     "execution_count": 48,
     "metadata": {},
     "output_type": "execute_result"
    }
   ],
   "source": [
    "upper_letters = letters.str.upper()\n",
    "upper_letters"
   ]
  },
  {
   "cell_type": "markdown",
   "id": "1bfa11cb",
   "metadata": {},
   "source": [
    "6. Create a bar plot of the frequencies of the 6 most commonly occuring letters."
   ]
  },
  {
   "cell_type": "code",
   "execution_count": 49,
   "id": "053cad36",
   "metadata": {},
   "outputs": [],
   "source": [
    "largest_series = letters_count.nlargest(n = 6)"
   ]
  },
  {
   "cell_type": "code",
   "execution_count": 73,
   "id": "9eb41bc1",
   "metadata": {},
   "outputs": [
    {
     "data": {
      "text/plain": [
       "<AxesSubplot:title={'center':'Most frequent letters'}, xlabel='Letter', ylabel='Occurance'>"
      ]
     },
     "execution_count": 73,
     "metadata": {},
     "output_type": "execute_result"
    },
    {
     "data": {
      "image/png": "[encoded data removed]",
      "text/plain": [
       "<Figure size 432x288 with 1 Axes>"
      ]
     },
     "metadata": {
      "needs_background": "light"
     },
     "output_type": "display_data"
    }
   ],
   "source": [
    "largest_series.plot.bar(title=\"Most frequent letters\", xlabel = 'Letter', ylabel = 'Occurance', width = .7, color = 'crimson')"
   ]
  },
  {
   "cell_type": "markdown",
   "id": "8ffed8f5",
   "metadata": {},
   "source": [
    "**Use pandas to create a Series named ```numbers``` from the following list:**"
   ]
  },
  {
   "cell_type": "code",
   "execution_count": 54,
   "id": "22b78669",
   "metadata": {},
   "outputs": [],
   "source": [
    "numbers = pd.Series(['$796,459.41', '$278.60', '$482,571.67', '$4,503,915.98', '$2,121,418.3', '$1,260,813.3', '$87,231.01', '$1,509,175.45', '$4,138,548.00', '$2,848,913.80', '$594,715.39', '$4,789,988.17', '$4,513,644.5', '$3,191,059.97', '$1,758,712.24', '$4,338,283.54', '$4,738,303.38', '$2,791,759.67', '$769,681.94', '$452,650.23'])"
   ]
  },
  {
   "cell_type": "code",
   "execution_count": 55,
   "id": "83a5c130",
   "metadata": {},
   "outputs": [
    {
     "data": {
      "text/plain": [
       "0      $796,459.41\n",
       "1          $278.60\n",
       "2      $482,571.67\n",
       "3    $4,503,915.98\n",
       "4     $2,121,418.3\n",
       "dtype: object"
      ]
     },
     "execution_count": 55,
     "metadata": {},
     "output_type": "execute_result"
    }
   ],
   "source": [
    "numbers.head()"
   ]
  },
  {
   "cell_type": "markdown",
   "id": "8bb3d9dd",
   "metadata": {},
   "source": [
    "1. What is the data type of the numbers Series?"
   ]
  },
  {
   "cell_type": "code",
   "execution_count": 56,
   "id": "2c46b128",
   "metadata": {},
   "outputs": [
    {
     "data": {
      "text/plain": [
       "dtype('O')"
      ]
     },
     "execution_count": 56,
     "metadata": {},
     "output_type": "execute_result"
    }
   ],
   "source": [
    "numbers.dtype #object"
   ]
  },
  {
   "cell_type": "markdown",
   "id": "9c8432f5",
   "metadata": {},
   "source": [
    "2. How many elements are in the number Series?"
   ]
  },
  {
   "cell_type": "code",
   "execution_count": 57,
   "id": "15d33f24",
   "metadata": {},
   "outputs": [
    {
     "data": {
      "text/plain": [
       "20"
      ]
     },
     "execution_count": 57,
     "metadata": {},
     "output_type": "execute_result"
    }
   ],
   "source": [
    "numbers.size"
   ]
  },
  {
   "cell_type": "markdown",
   "id": "5bdbfe43",
   "metadata": {},
   "source": [
    "3. Perform the necessary manipulations by accessing Series attributes and methods to convert the numbers Series to a numeric data type."
   ]
  },
  {
   "cell_type": "code",
   "execution_count": 67,
   "id": "77717d63",
   "metadata": {},
   "outputs": [],
   "source": [
    "def currency_to_float(amount):\n",
    "    return float(amount.strip('$').replace(',', ''))"
   ]
  },
  {
   "cell_type": "code",
   "execution_count": 68,
   "id": "fe8c66fc",
   "metadata": {},
   "outputs": [
    {
     "data": {
      "text/plain": [
       "0      796459.41\n",
       "1         278.60\n",
       "2      482571.67\n",
       "3     4503915.98\n",
       "4     2121418.30\n",
       "5     1260813.30\n",
       "6       87231.01\n",
       "7     1509175.45\n",
       "8     4138548.00\n",
       "9     2848913.80\n",
       "10     594715.39\n",
       "11    4789988.17\n",
       "12    4513644.50\n",
       "13    3191059.97\n",
       "14    1758712.24\n",
       "15    4338283.54\n",
       "16    4738303.38\n",
       "17    2791759.67\n",
       "18     769681.94\n",
       "19     452650.23\n",
       "dtype: float64"
      ]
     },
     "execution_count": 68,
     "metadata": {},
     "output_type": "execute_result"
    }
   ],
   "source": [
    "numbers = numbers.apply(currency_to_float)\n",
    "numbers"
   ]
  },
  {
   "cell_type": "markdown",
   "id": "33298a74",
   "metadata": {},
   "source": [
    "4. Run the code to discover the maximum value from the Series."
   ]
  },
  {
   "cell_type": "code",
   "execution_count": 69,
   "id": "cafb0680",
   "metadata": {},
   "outputs": [
    {
     "data": {
      "text/plain": [
       "4789988.17"
      ]
     },
     "execution_count": 69,
     "metadata": {},
     "output_type": "execute_result"
    }
   ],
   "source": [
    "max_value = numbers.max()\n",
    "max_value"
   ]
  },
  {
   "cell_type": "markdown",
   "id": "1eb0ccec",
   "metadata": {},
   "source": [
    "5. Run the code to discover the minimum value from the Series."
   ]
  },
  {
   "cell_type": "code",
   "execution_count": 70,
   "id": "8042dab7",
   "metadata": {},
   "outputs": [
    {
     "data": {
      "text/plain": [
       "278.6"
      ]
     },
     "execution_count": 70,
     "metadata": {},
     "output_type": "execute_result"
    }
   ],
   "source": [
    "min_value = min(numbers)\n",
    "min_value"
   ]
  },
  {
   "cell_type": "markdown",
   "id": "b76cf71f",
   "metadata": {},
   "source": [
    "6. What is the range of the values in the Series?"
   ]
  },
  {
   "cell_type": "code",
   "execution_count": 71,
   "id": "95f4d077",
   "metadata": {
    "scrolled": true
   },
   "outputs": [
    {
     "data": {
      "text/plain": [
       "4789709.57"
      ]
     },
     "execution_count": 71,
     "metadata": {},
     "output_type": "execute_result"
    }
   ],
   "source": [
    "range_values = max_value - min_value\n",
    "range_values"
   ]
  },
  {
   "cell_type": "markdown",
   "id": "67dee8ec",
   "metadata": {},
   "source": [
    "7. Bin the data into 4 equally sized intervals or bins and output how many values fall into each bin."
   ]
  },
  {
   "cell_type": "code",
   "execution_count": 94,
   "id": "905d3d47",
   "metadata": {},
   "outputs": [
    {
     "data": {
      "text/plain": [
       "(0, 1250000]          7\n",
       "(3750000, 5000000]    6\n",
       "(1250000, 2500000]    4\n",
       "(2500000, 3750000]    3\n",
       "dtype: int64"
      ]
     },
     "execution_count": 94,
     "metadata": {},
     "output_type": "execute_result"
    }
   ],
   "source": [
    "numbers_bins = pd.cut(numbers, [0, 1250000, 2500000, 3750000, 5000000])\n",
    "#numbers_bins = pd.cut(numbers, 4)\n",
    "numbers_bins.value_counts()"
   ]
  },
  {
   "cell_type": "markdown",
   "id": "bc5f93d0",
   "metadata": {},
   "source": [
    "8. Plot the binned data in a meaningful way. Be sure to include a title and axis labels."
   ]
  },
  {
   "cell_type": "code",
   "execution_count": 110,
   "id": "4487c284",
   "metadata": {},
   "outputs": [
    {
     "data": {
      "image/png": "[encoded data removed]",
      "text/plain": [
       "<Figure size 432x288 with 1 Axes>"
      ]
     },
     "metadata": {
      "needs_background": "light"
     },
     "output_type": "display_data"
    }
   ],
   "source": [
    "#doesn't do a correct histogram, frequency is correct but bins names do not work\n",
    "numbers.plot.hist(bins = 4)\n",
    "plt.title = 'Numbers'\n",
    "plt.xlabel = 'Amount in USD'\n",
    "plt.ylabel = 'Frequency'\n",
    "plt.color = 'magenta'\n",
    "plt.show()"
   ]
  },
  {
   "cell_type": "markdown",
   "id": "eae75dae",
   "metadata": {},
   "source": [
    "**Use pandas to create a Series named ```exam_scores``` from the following list:**"
   ]
  },
  {
   "cell_type": "code",
   "execution_count": 111,
   "id": "9aeff36c",
   "metadata": {},
   "outputs": [],
   "source": [
    "exam_scores = pd.Series([60, 86, 75, 62, 93, 71, 60, 83, 95, 78, 65, 72, 69, 81, 96, 80, 85, 92, 82, 78])"
   ]
  },
  {
   "cell_type": "code",
   "execution_count": 122,
   "id": "0aa19065",
   "metadata": {},
   "outputs": [
    {
     "data": {
      "text/plain": [
       "0     60\n",
       "1     86\n",
       "2     75\n",
       "3     62\n",
       "4     93\n",
       "5     71\n",
       "6     60\n",
       "7     83\n",
       "8     95\n",
       "9     78\n",
       "10    65\n",
       "11    72\n",
       "12    69\n",
       "13    81\n",
       "14    96\n",
       "15    80\n",
       "16    85\n",
       "17    92\n",
       "18    82\n",
       "19    78\n",
       "dtype: int64"
      ]
     },
     "execution_count": 122,
     "metadata": {},
     "output_type": "execute_result"
    }
   ],
   "source": [
    "exam_scores"
   ]
  },
  {
   "cell_type": "markdown",
   "id": "ab10b640",
   "metadata": {},
   "source": [
    "1. How many elements are in the exam_scores Series?"
   ]
  },
  {
   "cell_type": "code",
   "execution_count": 112,
   "id": "aa454c8c",
   "metadata": {},
   "outputs": [
    {
     "data": {
      "text/plain": [
       "20"
      ]
     },
     "execution_count": 112,
     "metadata": {},
     "output_type": "execute_result"
    }
   ],
   "source": [
    "exam_scores.size"
   ]
  },
  {
   "cell_type": "markdown",
   "id": "e9d6128d",
   "metadata": {},
   "source": [
    "2. Run the code to discover the minimum, the maximum, the mean, and the median scores for the exam_scores Series."
   ]
  },
  {
   "cell_type": "code",
   "execution_count": 115,
   "id": "a4169e13",
   "metadata": {},
   "outputs": [
    {
     "data": {
      "text/plain": [
       "count    20.000000\n",
       "mean     78.150000\n",
       "std      11.352139\n",
       "min      60.000000\n",
       "25%      70.500000\n",
       "50%      79.000000\n",
       "75%      85.250000\n",
       "max      96.000000\n",
       "dtype: float64"
      ]
     },
     "execution_count": 115,
     "metadata": {},
     "output_type": "execute_result"
    }
   ],
   "source": [
    "exam_scores.describe()"
   ]
  },
  {
   "cell_type": "code",
   "execution_count": 118,
   "id": "7ee1fc9b",
   "metadata": {},
   "outputs": [
    {
     "name": "stdout",
     "output_type": "stream",
     "text": [
      "Min score: 60 \n",
      "Max score: 96 \n",
      "Mean score: 78.15    \n",
      "Median score: 79.0\n"
     ]
    }
   ],
   "source": [
    "min_score = exam_scores.min()\n",
    "max_score = exam_scores.max()\n",
    "mean_score = exam_scores.mean()\n",
    "median_score = exam_scores.median()\n",
    "print(f'Min score: {min_score} \\nMax score: {max_score} \\nMean score: {mean_score}\\\n",
    "    \\nMedian score: {median_score}')"
   ]
  },
  {
   "cell_type": "markdown",
   "id": "228c4bd9",
   "metadata": {},
   "source": [
    "3. Plot the Series in a meaningful way and make sure your chart has a title and axis labels."
   ]
  },
  {
   "cell_type": "code",
   "execution_count": 133,
   "id": "e05f8fcd",
   "metadata": {},
   "outputs": [
    {
     "data": {
      "text/plain": [
       "<AxesSubplot:title={'center':'Scores'}, ylabel='Frequency'>"
      ]
     },
     "execution_count": 133,
     "metadata": {},
     "output_type": "execute_result"
    },
    {
     "data": {
      "image/png": "[encoded data removed]",
      "text/plain": [
       "<Figure size 432x288 with 1 Axes>"
      ]
     },
     "metadata": {
      "needs_background": "light"
     },
     "output_type": "display_data"
    }
   ],
   "source": [
    "exam_scores.plot.hist(title = 'Scores', xlabel = 'Grades', ylabel = 'Freqency', bins = 5, color = 'olivedrab')"
   ]
  },
  {
   "cell_type": "code",
   "execution_count": 152,
   "id": "d375a205",
   "metadata": {},
   "outputs": [
    {
     "data": {
      "text/plain": [
       "A    4\n",
       "B    5\n",
       "C    7\n",
       "D    2\n",
       "F    2\n",
       "dtype: int64"
      ]
     },
     "execution_count": 152,
     "metadata": {},
     "output_type": "execute_result"
    }
   ],
   "source": [
    "score_bins = pd.cut(exam_scores, [0, 60, 67, 80, 87, 100] ).value_counts().sort_index(ascending = False)\n",
    "score_bins.index = ['A', 'B', 'C', 'D', 'F']\n",
    "score_bins"
   ]
  },
  {
   "cell_type": "code",
   "execution_count": 158,
   "id": "8b57e233",
   "metadata": {},
   "outputs": [
    {
     "data": {
      "image/png": "[encoded data removed]",
      "text/plain": [
       "<Figure size 432x288 with 1 Axes>"
      ]
     },
     "metadata": {
      "needs_background": "light"
     },
     "output_type": "display_data"
    }
   ],
   "source": [
    "score_bins.plot.bar(title = 'Scores', xlabel = 'Grades', ylabel = 'Students',\\\n",
    "                    color = 'mediumslateblue', width = 1).grid(axis = 'y')"
   ]
  },
  {
   "cell_type": "markdown",
   "id": "59452790",
   "metadata": {},
   "source": [
    "4. Write the code necessary to implement a curve for your exam_grades Series and save this as curved_grades. Add the necessary points to the highest grade to make it 100, and add the same number of points to every other score in the Series as well."
   ]
  },
  {
   "cell_type": "code",
   "execution_count": 170,
   "id": "f6a28ab4",
   "metadata": {},
   "outputs": [
    {
     "name": "stdout",
     "output_type": "stream",
     "text": [
      "0      64\n",
      "1      90\n",
      "2      79\n",
      "3      66\n",
      "4      97\n",
      "5      75\n",
      "6      64\n",
      "7      87\n",
      "8      99\n",
      "9      82\n",
      "10     69\n",
      "11     76\n",
      "12     73\n",
      "13     85\n",
      "14    100\n",
      "15     84\n",
      "16     89\n",
      "17     96\n",
      "18     86\n",
      "19     82\n",
      "dtype: int64\n"
     ]
    }
   ],
   "source": [
    "curved_grades = (100 - exam_scores.max()) + exam_scores\n",
    "print(curved_grades)"
   ]
  },
  {
   "cell_type": "code",
   "execution_count": 174,
   "id": "cc47c94d",
   "metadata": {},
   "outputs": [
    {
     "data": {
      "image/png": "[encoded data removed]",
      "text/plain": [
       "<Figure size 432x288 with 1 Axes>"
      ]
     },
     "metadata": {
      "needs_background": "light"
     },
     "output_type": "display_data"
    }
   ],
   "source": [
    "curved_grades.plot(style='.-', color = 'firebrick')\n",
    "plt.show()"
   ]
  },
  {
   "cell_type": "markdown",
   "id": "356def4e",
   "metadata": {},
   "source": [
    "5. Use a method to convert each of the numeric values in the curved_grades Series into a categorical value of letter grades. For example, 86 should be a 'B' and 95 should be an 'A'. Save this as a Series named letter_grades."
   ]
  },
  {
   "cell_type": "code",
   "execution_count": 175,
   "id": "14d1e8b9",
   "metadata": {},
   "outputs": [
    {
     "data": {
      "text/plain": [
       "A    6\n",
       "B    6\n",
       "C    5\n",
       "D    3\n",
       "F    0\n",
       "dtype: int64"
      ]
     },
     "execution_count": 175,
     "metadata": {},
     "output_type": "execute_result"
    }
   ],
   "source": [
    "curved_bins = pd.cut(curved_grades, [0, 60, 67, 80, 87, 100] ).value_counts().sort_index(ascending = False)\n",
    "curved_bins.index = ['A', 'B', 'C', 'D', 'F']\n",
    "curved_bins"
   ]
  },
  {
   "cell_type": "markdown",
   "id": "b96a24bd",
   "metadata": {},
   "source": [
    "6. Plot your new categorical letter_grades Series in a meaninful way and include a title and axis labels."
   ]
  },
  {
   "cell_type": "code",
   "execution_count": 178,
   "id": "0b8a40b6",
   "metadata": {},
   "outputs": [
    {
     "data": {
      "image/png": "[encoded data removed]",
      "text/plain": [
       "<Figure size 432x288 with 1 Axes>"
      ]
     },
     "metadata": {
      "needs_background": "light"
     },
     "output_type": "display_data"
    }
   ],
   "source": [
    "curved_bins.plot.bar(title = 'Curved grade distribution', xlabel = 'Grades', ylabel = 'Students',\\\n",
    "                    color = 'tomato', width = 1).grid(axis = 'y')\n",
    "plt.show()"
   ]
  }
 ],
 "metadata": {
  "kernelspec": {
   "display_name": "Python 3 (ipykernel)",
   "language": "python",
   "name": "python3"
  },
  "language_info": {
   "codemirror_mode": {
    "name": "ipython",
    "version": 3
   },
   "file_extension": ".py",
   "mimetype": "text/x-python",
   "name": "python",
   "nbconvert_exporter": "python",
   "pygments_lexer": "ipython3",
   "version": "3.9.12"
  }
 },
 "nbformat": 4,
 "nbformat_minor": 5
}
